{
 "cells": [
  {
   "cell_type": "markdown",
   "id": "c90ecde0-3a46-400a-af2c-98d0c800e58e",
   "metadata": {},
   "source": [
    "# Python Basics"
   ]
  },
  {
   "cell_type": "code",
   "execution_count": null,
   "id": "91e7f9e2-78ee-415b-9cd2-c0ba93f5e841",
   "metadata": {},
   "outputs": [],
   "source": []
  },
  {
   "cell_type": "code",
   "execution_count": null,
   "id": "61e4d21c-93a6-468a-b0e7-31a2eb9e514a",
   "metadata": {},
   "outputs": [],
   "source": []
  },
  {
   "cell_type": "code",
   "execution_count": null,
   "id": "435f33f4-6725-40eb-ab84-86c9ef282121",
   "metadata": {},
   "outputs": [],
   "source": []
  },
  {
   "cell_type": "code",
   "execution_count": 1,
   "id": "308f88e1-002c-4d41-be77-a9f9e3c9b20d",
   "metadata": {},
   "outputs": [
    {
     "name": "stdout",
     "output_type": "stream",
     "text": [
      "Hello World\n"
     ]
    }
   ],
   "source": [
    "print(\"Hello World\")"
   ]
  },
  {
   "cell_type": "code",
   "execution_count": null,
   "id": "81c64145-3ec0-4c4a-9eab-f6700670c7b4",
   "metadata": {},
   "outputs": [],
   "source": []
  },
  {
   "cell_type": "code",
   "execution_count": null,
   "id": "4bef3f96-be2e-426e-a6f3-eed7bea5ed16",
   "metadata": {},
   "outputs": [],
   "source": []
  },
  {
   "cell_type": "markdown",
   "id": "917646c4-2b8e-46bf-a1a1-4d91fcf59e0d",
   "metadata": {},
   "source": [
    "# Addition Of Two Numbers"
   ]
  },
  {
   "cell_type": "code",
   "execution_count": 2,
   "id": "cc772a1b-f206-41b7-bfef-5045bcf2341e",
   "metadata": {},
   "outputs": [
    {
     "name": "stdout",
     "output_type": "stream",
     "text": [
      "4\n"
     ]
    }
   ],
   "source": [
    "a=2 \n",
    "b=2\n",
    "c = a + b\n",
    "print(c)"
   ]
  },
  {
   "cell_type": "markdown",
   "id": "9a1233c6-cecb-49d8-b6ff-475345bac85e",
   "metadata": {},
   "source": [
    "# Subtraction of Two Numbers"
   ]
  },
  {
   "cell_type": "code",
   "execution_count": 3,
   "id": "95f69895-0053-419c-b65e-5d0e60d0813d",
   "metadata": {},
   "outputs": [
    {
     "name": "stdout",
     "output_type": "stream",
     "text": [
      "-4\n"
     ]
    }
   ],
   "source": [
    "a = 4\n",
    "b = 8\n",
    "c = a - b\n",
    "print(c)"
   ]
  },
  {
   "cell_type": "markdown",
   "id": "dcf84ad6-fa55-41e2-b8e3-a17fcc5c77e1",
   "metadata": {},
   "source": [
    "# Multiplication of two numbers"
   ]
  },
  {
   "cell_type": "code",
   "execution_count": 4,
   "id": "de323129-197d-463b-b5b2-3769c221e96b",
   "metadata": {},
   "outputs": [
    {
     "name": "stdout",
     "output_type": "stream",
     "text": [
      "56\n"
     ]
    }
   ],
   "source": [
    "a = 7\n",
    "b = 8\n",
    "c = a*b\n",
    "print(c)"
   ]
  },
  {
   "cell_type": "markdown",
   "id": "19043633-1145-45f1-8c21-fea06684af01",
   "metadata": {},
   "source": [
    "# Division of two numbers"
   ]
  },
  {
   "cell_type": "code",
   "execution_count": 5,
   "id": "b4437832-da01-4ca5-ad6e-ecede214c0fa",
   "metadata": {},
   "outputs": [
    {
     "name": "stdout",
     "output_type": "stream",
     "text": [
      "0.625\n"
     ]
    }
   ],
   "source": [
    "a = 5\n",
    "b = 8\n",
    "c = a/b\n",
    "print(c)"
   ]
  },
  {
   "cell_type": "markdown",
   "id": "04d74557-31dc-4439-bee7-b215d1097dd2",
   "metadata": {},
   "source": [
    "# Modulus of two numbers   # Modullus give  remainder"
   ]
  },
  {
   "cell_type": "code",
   "execution_count": 6,
   "id": "6788bc8c-a8b4-4290-aa6d-90cbae4328fe",
   "metadata": {},
   "outputs": [
    {
     "name": "stdout",
     "output_type": "stream",
     "text": [
      "1\n"
     ]
    }
   ],
   "source": [
    "a = 10   \n",
    "b = 3\n",
    "c = a%b\n",
    "print(c)"
   ]
  },
  {
   "cell_type": "code",
   "execution_count": null,
   "id": "eeaa006c-9f91-4bc0-af92-a645d7179e2b",
   "metadata": {},
   "outputs": [],
   "source": []
  },
  {
   "cell_type": "markdown",
   "id": "37b64f81-5501-4a14-8f6d-ba1a308df471",
   "metadata": {},
   "source": [
    "# Type # syntax = ptint(type())"
   ]
  },
  {
   "cell_type": "code",
   "execution_count": 7,
   "id": "c5f58519-6859-4367-b2b4-a04073f8c94b",
   "metadata": {},
   "outputs": [
    {
     "name": "stdout",
     "output_type": "stream",
     "text": [
      "<class 'int'>\n"
     ]
    }
   ],
   "source": [
    "a = 6\n",
    "print(type(a))"
   ]
  },
  {
   "cell_type": "code",
   "execution_count": 8,
   "id": "48b554fc-58be-4eab-b8b9-3b7757c720c5",
   "metadata": {},
   "outputs": [
    {
     "name": "stdout",
     "output_type": "stream",
     "text": [
      "<class 'str'>\n"
     ]
    }
   ],
   "source": [
    "a = \" Uditya Seth\" \n",
    "print(type(a))"
   ]
  },
  {
   "cell_type": "code",
   "execution_count": 9,
   "id": "d563d6b9-6900-4f00-8a12-427804471727",
   "metadata": {},
   "outputs": [
    {
     "name": "stdout",
     "output_type": "stream",
     "text": [
      "<class 'float'>\n"
     ]
    }
   ],
   "source": [
    "a = 6.5\n",
    "print(type(a))"
   ]
  },
  {
   "cell_type": "code",
   "execution_count": 10,
   "id": "fc705c77-3df5-40e6-8b03-5b4c2daebc25",
   "metadata": {},
   "outputs": [
    {
     "name": "stdout",
     "output_type": "stream",
     "text": [
      "<class 'bool'>\n"
     ]
    }
   ],
   "source": [
    "a =  True\n",
    "print(type(a))"
   ]
  },
  {
   "cell_type": "code",
   "execution_count": 11,
   "id": "05a3dc0f-6f4b-43c9-bb0a-23d1b98faf5e",
   "metadata": {},
   "outputs": [
    {
     "name": "stdout",
     "output_type": "stream",
     "text": [
      "<class 'str'>\n"
     ]
    }
   ],
   "source": [
    "a = \"1 ,abc\"\n",
    "print(type(a))"
   ]
  },
  {
   "cell_type": "code",
   "execution_count": 12,
   "id": "86dbb83b-e901-4e7d-9d25-4ea027bf42d0",
   "metadata": {},
   "outputs": [
    {
     "ename": "NameError",
     "evalue": "name 'Print' is not defined",
     "output_type": "error",
     "traceback": [
      "\u001b[1;31m---------------------------------------------------------------------------\u001b[0m",
      "\u001b[1;31mNameError\u001b[0m                                 Traceback (most recent call last)",
      "Cell \u001b[1;32mIn[12], line 2\u001b[0m\n\u001b[0;32m      1\u001b[0m a  \u001b[38;5;241m=\u001b[39m \u001b[38;5;241m2\u001b[39m\n\u001b[1;32m----> 2\u001b[0m Print(\u001b[38;5;28mtype\u001b[39m(a))\n",
      "\u001b[1;31mNameError\u001b[0m: name 'Print' is not defined"
     ]
    }
   ],
   "source": [
    "a  = 2\n",
    "Print(type(a))"
   ]
  },
  {
   "cell_type": "code",
   "execution_count": null,
   "id": "41576f3b-581f-4989-ba9b-423a33ed2f46",
   "metadata": {},
   "outputs": [],
   "source": [
    "a  = 2\n",
    "PRINT(type(a))"
   ]
  },
  {
   "cell_type": "markdown",
   "id": "98068feb-e389-46d1-b420-5c1f92d759ba",
   "metadata": {},
   "source": [
    "# List"
   ]
  },
  {
   "cell_type": "code",
   "execution_count": null,
   "id": "971ffad1-7d13-4e7a-a86c-9b79f5ab30e8",
   "metadata": {},
   "outputs": [],
   "source": [
    "a = [ \"apple\" , \" banana\" , \"grapes\"]\n",
    "print(a)"
   ]
  },
  {
   "cell_type": "code",
   "execution_count": null,
   "id": "ccb451d1-89ae-4e37-b437-2731ff5d146a",
   "metadata": {},
   "outputs": [],
   "source": [
    "print(type(a))\n",
    "\n"
   ]
  },
  {
   "cell_type": "markdown",
   "id": "7b9ccfbf-be8e-45d2-94f6-a27a9613a505",
   "metadata": {},
   "source": [
    "tupple"
   ]
  },
  {
   "cell_type": "code",
   "execution_count": null,
   "id": "01a477e1-e05a-4996-887a-4e29fcc61ef6",
   "metadata": {},
   "outputs": [],
   "source": [
    "a = (\"apple\" , \" banana\" , \"grapes\")\n",
    "print(a)"
   ]
  },
  {
   "cell_type": "code",
   "execution_count": null,
   "id": "4c163b05-8b45-4d13-951c-3ba377611091",
   "metadata": {},
   "outputs": [],
   "source": [
    "print(type(a))"
   ]
  },
  {
   "cell_type": "code",
   "execution_count": null,
   "id": "72b1d1bb-fb44-4c4d-9244-4e6a11869dd2",
   "metadata": {},
   "outputs": [],
   "source": [
    "x = range(8)\n",
    "print(x)"
   ]
  },
  {
   "cell_type": "code",
   "execution_count": null,
   "id": "64c7b0e4-3ff8-435c-91e0-79fe6c2c4259",
   "metadata": {},
   "outputs": [],
   "source": [
    "a = { \"name\" : \"uditya\" , \"age\" : 21}\n",
    "print(a)"
   ]
  },
  {
   "cell_type": "code",
   "execution_count": null,
   "id": "d05bb585-0a48-452c-ab05-375356139078",
   "metadata": {},
   "outputs": [],
   "source": [
    "print(type(a))"
   ]
  },
  {
   "cell_type": "code",
   "execution_count": null,
   "id": "52d311a0-f49e-4d00-ba4c-82f5ca783032",
   "metadata": {},
   "outputs": [],
   "source": [
    "x = { \"apple\" , \"banana\" , \" grapes\"}\n",
    "print(x)"
   ]
  },
  {
   "cell_type": "code",
   "execution_count": null,
   "id": "b5ec03b3-2a83-46da-8597-e994bafefdbf",
   "metadata": {},
   "outputs": [],
   "source": [
    "print(type(x))"
   ]
  },
  {
   "cell_type": "code",
   "execution_count": null,
   "id": "6bf4fbe6-db60-4e8d-a3ea-ca936dfef0e7",
   "metadata": {},
   "outputs": [],
   "source": [
    "a = {\"name\" : \"uditya\", \"age\" : 21}\n",
    "print(a)\n",
    "print(type(a))\n",
    "\n"
   ]
  },
  {
   "cell_type": "code",
   "execution_count": null,
   "id": "49231bc5-b18a-44a6-94aa-0e73b9ef706c",
   "metadata": {},
   "outputs": [],
   "source": [
    "x = range (8)\n",
    "print (x)"
   ]
  },
  {
   "cell_type": "code",
   "execution_count": null,
   "id": "6f5127c2-c25e-4682-85ee-e554653a180d",
   "metadata": {},
   "outputs": [],
   "source": [
    "a = (\"apple\", \"banana\", \"grapes\")\n",
    "print (a)\n"
   ]
  },
  {
   "cell_type": "code",
   "execution_count": null,
   "id": "bb64f8f2-f5a1-4f28-bbf6-0fca77d95c15",
   "metadata": {},
   "outputs": [],
   "source": [
    "a = {\"name\" : \"uditya\", \"age\" : 21}\n",
    "print (a)"
   ]
  },
  {
   "cell_type": "markdown",
   "id": "e876ac83-9cff-4fbf-bbaa-d351c090174e",
   "metadata": {},
   "source": [
    "# LIST IS THE COLLECTION OF DATA IS ORDERED , CHANGEBLE , DUPLICATE, ANY DATA TYPE"
   ]
  },
  {
   "cell_type": "code",
   "execution_count": null,
   "id": "bed6006e-6ceb-41d2-87a6-836825b07ceb",
   "metadata": {},
   "outputs": [],
   "source": [
    "li =[1,2,3,3]\n",
    "print(li)"
   ]
  },
  {
   "cell_type": "code",
   "execution_count": null,
   "id": "a839d8c5-66c3-452f-9c5c-b548339e0dec",
   "metadata": {},
   "outputs": [],
   "source": [
    "l2 = [\" gurav\" , \"uditya\" , \"luv\"]\n",
    "print(l2)"
   ]
  },
  {
   "cell_type": "code",
   "execution_count": null,
   "id": "1c281066-fc78-4fed-aff6-bd60f3d8b944",
   "metadata": {},
   "outputs": [],
   "source": [
    "l3 = [ 1 ,\"A\",2,\"B\",2,\"C\"]\n",
    "print(l3)"
   ]
  },
  {
   "cell_type": "markdown",
   "id": "ab4ff431-a9d5-4566-bb5f-e8c83ebded9d",
   "metadata": {},
   "source": [
    " l4 = [ 1, \"A\" ,True,21,2 ,False]\n",
    "print(l4)"
   ]
  },
  {
   "cell_type": "code",
   "execution_count": null,
   "id": "7f98ca94-d9fe-4a6e-a209-19321a7b1379",
   "metadata": {},
   "outputs": [],
   "source": [
    "# Array\n",
    "x = [1 , 2 ,3 , 4 ,5]\n",
    "print(x)\n"
   ]
  },
  {
   "cell_type": "markdown",
   "id": "5c091ec1-d97d-44fd-b365-755d9e87b97b",
   "metadata": {},
   "source": [
    "# Indexing\n"
   ]
  },
  {
   "cell_type": "code",
   "execution_count": null,
   "id": "858efd3f-9191-4b7d-a793-f0ddb12ba146",
   "metadata": {},
   "outputs": [],
   "source": [
    "l1 = [ 1, 2, 3,4, 5 , 6, 7 ,8]\n",
    "print(l1[3])"
   ]
  },
  {
   "cell_type": "code",
   "execution_count": null,
   "id": "52a872be-b53b-455f-aa24-4f24c89d0e13",
   "metadata": {},
   "outputs": [],
   "source": [
    "print(l1[7])"
   ]
  },
  {
   "cell_type": "code",
   "execution_count": null,
   "id": "258e8efa-7e6f-41d3-af96-40b6ffe175d3",
   "metadata": {},
   "outputs": [],
   "source": [
    "print(l3[3])"
   ]
  },
  {
   "cell_type": "markdown",
   "id": "456ec3e7-de44-414e-b313-37fe3d6b1130",
   "metadata": {},
   "source": [
    "# In indexing we start from left to right  0 to number  here number= n-1 "
   ]
  },
  {
   "cell_type": "code",
   "execution_count": null,
   "id": "b97eacf7-0637-4629-a27b-98c87e4ec914",
   "metadata": {},
   "outputs": [],
   "source": [
    "print(l1[3:5])"
   ]
  },
  {
   "cell_type": "code",
   "execution_count": null,
   "id": "c14037c6-26e8-44b6-ba59-32fd456aba0f",
   "metadata": {},
   "outputs": [],
   "source": [
    "print(li[0])"
   ]
  },
  {
   "cell_type": "code",
   "execution_count": null,
   "id": "ca94bc89-78ed-4f33-a031-4359ce8e96e2",
   "metadata": {},
   "outputs": [],
   "source": [
    "l2[0]= 5\n",
    "print(l2[0])"
   ]
  },
  {
   "cell_type": "code",
   "execution_count": null,
   "id": "511d4faf-2041-4b19-a2ae-f9811b9d4807",
   "metadata": {},
   "outputs": [],
   "source": [
    "l1= [1,2,3,4,5,6,7,8,9]\n",
    "print(l1[2:5])"
   ]
  },
  {
   "cell_type": "code",
   "execution_count": null,
   "id": "7c971c02-cc20-444b-8324-4eef562a6044",
   "metadata": {},
   "outputs": [],
   "source": [
    "print(l1[0:10])"
   ]
  },
  {
   "cell_type": "code",
   "execution_count": null,
   "id": "2edaae00-a79b-4c7f-b5fe-e05281760e55",
   "metadata": {},
   "outputs": [],
   "source": [
    "print(l1[:5])"
   ]
  },
  {
   "cell_type": "code",
   "execution_count": null,
   "id": "69e7d5ee-68f4-417a-b906-368da4ecbf40",
   "metadata": {},
   "outputs": [],
   "source": [
    "print(l1[3:])"
   ]
  },
  {
   "cell_type": "code",
   "execution_count": null,
   "id": "41509d99-0106-448d-86c7-d5e396cda3d9",
   "metadata": {},
   "outputs": [],
   "source": [
    "print(l1[3:])"
   ]
  },
  {
   "cell_type": "markdown",
   "id": "4e70f124-dd90-45e1-8c6e-569b68c8ff81",
   "metadata": {},
   "source": [
    "NEGATIVE INDEXING - RIGHT TO LEFT  FROM -1\n"
   ]
  },
  {
   "cell_type": "code",
   "execution_count": null,
   "id": "ea13e11d-ac97-4af0-b144-cdfb1abedda0",
   "metadata": {},
   "outputs": [],
   "source": [
    "l1=[1,2,3,4,5,6,7,8]\n",
    "print(l1[:-3])\n"
   ]
  },
  {
   "cell_type": "code",
   "execution_count": null,
   "id": "741b8021-22fc-4d2d-bbf2-f946f53fb7de",
   "metadata": {},
   "outputs": [],
   "source": [
    "print(l1[-8:])"
   ]
  },
  {
   "cell_type": "code",
   "execution_count": null,
   "id": "2a41385a-ec02-4bef-a2c3-2d8ec9835640",
   "metadata": {},
   "outputs": [],
   "source": [
    "print(l1[-4:-2])"
   ]
  },
  {
   "cell_type": "code",
   "execution_count": null,
   "id": "16144f3b-6e3f-4ce0-a150-ec10505a12cd",
   "metadata": {},
   "outputs": [],
   "source": [
    "print(l1[-6:-3])"
   ]
  },
  {
   "cell_type": "code",
   "execution_count": null,
   "id": "2aa343c0-0a54-4ed1-ad42-6f6549c2bf94",
   "metadata": {},
   "outputs": [],
   "source": [
    "print(l1[-6])"
   ]
  },
  {
   "cell_type": "code",
   "execution_count": null,
   "id": "32a6029b-b2f3-4835-a6d8-dfa0b46b437f",
   "metadata": {},
   "outputs": [],
   "source": [
    "Fruits = [ \"apple\",\"banana\",\"cherry\",\"orange\",\"kiwi\",\"melon\",\"mango\"]\n",
    "print(Fruits[-4:-1])"
   ]
  },
  {
   "cell_type": "code",
   "execution_count": null,
   "id": "9355ea70-ea08-4525-8146-0a212c90a5ca",
   "metadata": {},
   "outputs": [],
   "source": [
    "print(Fruits[2:6])"
   ]
  },
  {
   "cell_type": "code",
   "execution_count": null,
   "id": "3b96d5e4-2faa-4aa2-b078-cecff9c3901d",
   "metadata": {},
   "outputs": [],
   "source": [
    "print(Fruits[0:7])"
   ]
  },
  {
   "cell_type": "code",
   "execution_count": null,
   "id": "6155fdd9-17c5-408e-ae9b-16dec7745f57",
   "metadata": {},
   "outputs": [],
   "source": [
    "print(Fruits[:7])"
   ]
  },
  {
   "cell_type": "code",
   "execution_count": null,
   "id": "a0af4c9b-2c2f-4ee7-b904-3b54013808e3",
   "metadata": {},
   "outputs": [],
   "source": [
    "print(Fruits[1:])"
   ]
  },
  {
   "cell_type": "markdown",
   "id": "8a6bb4a0-afe1-460b-90c8-40b71456d757",
   "metadata": {},
   "source": [
    "#change List"
   ]
  },
  {
   "cell_type": "code",
   "execution_count": null,
   "id": "18a3dc73-c40f-44f5-9c19-710a86a6a713",
   "metadata": {},
   "outputs": [],
   "source": [
    "thislist = [\"apple\",\"banana\",\"cherry\"]\n",
    "thislist[1]= \"blackcurrent\"\n",
    "print(thislist)"
   ]
  },
  {
   "cell_type": "code",
   "execution_count": null,
   "id": "47deb23d-edf3-41fd-8380-22a33e174523",
   "metadata": {},
   "outputs": [],
   "source": [
    "l1=[\"a\", \"b\",\"c\",\"d\",\"e\",\"f\"]\n",
    "l1[2]=\"z\"\n",
    "print(l1)"
   ]
  },
  {
   "cell_type": "code",
   "execution_count": null,
   "id": "8ef2e8b4-408f-4be8-91e4-ecf229c61a4a",
   "metadata": {},
   "outputs": [],
   "source": [
    "l1=[\"a\", \"b\",\"c\",\"d\",\"e\",\"f\"]\n",
    "l1[1:3] = \"apple\"\n",
    "print(l1) "
   ]
  },
  {
   "cell_type": "code",
   "execution_count": null,
   "id": "69b40286-7159-4970-be2e-79e91b70f83b",
   "metadata": {},
   "outputs": [],
   "source": [
    "thislist = [\"apple\",\"banana\",\"cherry\"]\n",
    "thislist[1:3]= [\"watermelon\"]\n",
    "print(thislist)\n"
   ]
  },
  {
   "cell_type": "code",
   "execution_count": null,
   "id": "e9bca4b5-c909-418d-8887-486c305dfbdf",
   "metadata": {},
   "outputs": [],
   "source": [
    "thislist= [\"apple\",\"banana\", \"cherry\"]\n",
    "thislist[1:3]=[\"watermelon\"]\n",
    "print(thislist)"
   ]
  },
  {
   "cell_type": "markdown",
   "id": "81eeec01-59c5-4d78-9e77-bf8078058a22",
   "metadata": {},
   "source": [
    "# LIST , APPEND , EXTEND , REMOVE , INSERT FUNCTION   [EXTEND - IS USE TO ADD TO LIST ] , [APPEND IS use to add the   anything at the last] , [remove is use in list  not in tupple and it remove speciific string or number] ,  [insert - is use to insert anything by using indexing] , [ list is use to make "
   ]
  },
  {
   "cell_type": "code",
   "execution_count": null,
   "id": "3df79b04-d836-4ee4-8d6a-36ba70b2d14d",
   "metadata": {},
   "outputs": [],
   "source": [
    "l1= [1,2,3,4,5,55]\n",
    "l1.append(\"mango\")\n",
    "print(l1)"
   ]
  },
  {
   "cell_type": "code",
   "execution_count": null,
   "id": "a8901fd6-4c44-4f61-a4a7-8229cf533943",
   "metadata": {},
   "outputs": [],
   "source": [
    "l1=[5,6,7,8,9,28]\n",
    "l1.append(\"orange\")\n",
    "print(l1)"
   ]
  },
  {
   "cell_type": "code",
   "execution_count": null,
   "id": "d8019f23-44e5-48e9-8023-3dca07e6b346",
   "metadata": {},
   "outputs": [],
   "source": [
    "l1=[\"a\", \"b\",\"c\",\"d\",\"e\",\"f\"]\n",
    "l1.insert(2,\"grapes\")\n",
    "print(l1)\n"
   ]
  },
  {
   "cell_type": "code",
   "execution_count": null,
   "id": "9bed6cd7-0913-446f-b816-70384a5d684b",
   "metadata": {},
   "outputs": [],
   "source": [
    "l1=[\"appple\", \"grapes\", \"banana\"]\n",
    "l1.insert(3,\"orange\")\n",
    "print(l1)"
   ]
  },
  {
   "cell_type": "code",
   "execution_count": null,
   "id": "62cfaa64-734c-4c71-a7a1-c7494910e0cb",
   "metadata": {},
   "outputs": [],
   "source": [
    "l1 = [1,2,34,5,6]\n",
    "l1.append(\"uditya\")\n",
    "print(l1)"
   ]
  },
  {
   "cell_type": "code",
   "execution_count": null,
   "id": "d7b15296-6cb9-4d0a-a745-8bc86e5f1380",
   "metadata": {},
   "outputs": [],
   "source": [
    "l1 = [\"apple\",\"banana\",\"guava\"]\n",
    "l1.insert(1 , \"grapes\")\n",
    "print(l1)"
   ]
  },
  {
   "cell_type": "code",
   "execution_count": null,
   "id": "7e3ef98a-870d-418f-8a53-036cd6b59b7e",
   "metadata": {},
   "outputs": [],
   "source": [
    "l1 = [ 1, 2, 3, 4,5]\n",
    "l2 = [ 6, 7, 8, 9, 10]\n",
    "l1.extend(l2)\n",
    "print(l1)"
   ]
  },
  {
   "cell_type": "code",
   "execution_count": null,
   "id": "0c8e9826-19a7-4e2c-b7a2-eb79afc87d2a",
   "metadata": {},
   "outputs": [],
   "source": [
    "l1 = [ 3, 4, 5, 6, 7, 8 ]\n",
    "l1.append ( 9)\n",
    "print(l1)"
   ]
  },
  {
   "cell_type": "code",
   "execution_count": null,
   "id": "5816350c-84de-427d-86cb-e22c1e8d1ebb",
   "metadata": {},
   "outputs": [],
   "source": [
    "l1 = [ 3, 4, 5, 6, 7, 8 ]\n",
    "l2= [ 3,4,2,6,7,8,9]\n",
    "l1.extend(l2)\n",
    "print(l2)"
   ]
  },
  {
   "cell_type": "code",
   "execution_count": null,
   "id": "bb68dc02-3ba1-4d66-a6d4-f187a14792bb",
   "metadata": {},
   "outputs": [],
   "source": [
    "stud1 = [\"A\",\"B\",\"c\",\"d\"]\n",
    "stud2 = [\"E\",\"F\",\"g\",\"h\"]\n",
    "stud1.extend(stud2)\n",
    "print(stud1)\n",
    "stud1.append(\"z\")\n",
    "print(stud1)\n",
    "stud1.insert(1,2)\n",
    "stud1.insert(4,5)\n",
    "print(stud1)\n"
   ]
  },
  {
   "cell_type": "code",
   "execution_count": null,
   "id": "c6ee53f9-b0da-4aba-bbe5-ca1eacb24035",
   "metadata": {},
   "outputs": [],
   "source": [
    "l1 = [ \"apple\" , \"banana\", \"grapes\"]\n",
    "l1.remove(\"apple\")\n",
    "print(l1)"
   ]
  },
  {
   "cell_type": "code",
   "execution_count": null,
   "id": "ff9d8fa4-746c-4f40-bfc5-7e51f747240f",
   "metadata": {},
   "outputs": [],
   "source": [
    "l1 ={\"A\" ,\"A\" , \"B\", \"C\",\"D\"}\n",
    "l1.remove(\"A\")                  # set has no indexing\n",
    "print(l1)"
   ]
  },
  {
   "cell_type": "code",
   "execution_count": null,
   "id": "362ec3c3-b2ed-4958-bd3f-e170e9bf7b50",
   "metadata": {},
   "outputs": [],
   "source": [
    "a = range(100)\n",
    "print(a)"
   ]
  },
  {
   "cell_type": "code",
   "execution_count": null,
   "id": "f169eb94-1fa4-4da9-b028-dfcace00df6b",
   "metadata": {},
   "outputs": [],
   "source": [
    "l1 = [ \"apple\",\"grapes\",\"banana\",\"orange\",\"guava\"]\n",
    "l1.pop()\n",
    "print(l1)"
   ]
  },
  {
   "cell_type": "code",
   "execution_count": null,
   "id": "63a0e5db-2461-410b-bb0d-078ae66adadc",
   "metadata": {},
   "outputs": [],
   "source": [
    "l1.pop(3)\n",
    "print(l1)"
   ]
  },
  {
   "cell_type": "code",
   "execution_count": null,
   "id": "271901a3-5421-46c1-9e72-6b320f7d8a94",
   "metadata": {},
   "outputs": [],
   "source": [
    "l1.pop(1,2)\n",
    "print(l1)"
   ]
  },
  {
   "cell_type": "code",
   "execution_count": null,
   "id": "8acf4d07-050a-432f-8cd3-1897cbe71bc5",
   "metadata": {},
   "outputs": [],
   "source": [
    "l1 = [ \"apple\",\"grapes\",\"banana\",\"orange\",\"guava\"]\n",
    "del l1[2]\n",
    "print(l1)"
   ]
  },
  {
   "cell_type": "code",
   "execution_count": null,
   "id": "13567fa0-7871-4097-8362-ec65a45f9cc9",
   "metadata": {},
   "outputs": [],
   "source": [
    "l1 = [ \"apple\",\"grapes\",\"banana\",\"orange\",\"guava\"]\n",
    "del l1[2:4]\n",
    "print(l1)\n"
   ]
  },
  {
   "cell_type": "markdown",
   "id": "bb9a0d1e-d0eb-4a56-af21-0747799a04f9",
   "metadata": {},
   "source": [
    "#pop function is use to remove specifiic index from the list \n",
    "#note - if  we not type anything in pop so it delete a the last string from the list\n",
    "# del is use to delete but during syntax we write dell first  and we use[indexing]  for deletion from list\n",
    "# where in pop we use(specific index)  and we do not use range in pop\n"
   ]
  },
  {
   "cell_type": "code",
   "execution_count": null,
   "id": "481cc286-b86b-404e-bf54-95ee46b9f9ed",
   "metadata": {},
   "outputs": [],
   "source": [
    "# delete entire list\n",
    "l1 = [ \"apple\",\"grapes\",\"banana\",\"orange\",\"guava\"]\n",
    "del l1\n",
    "print(l1)"
   ]
  },
  {
   "cell_type": "markdown",
   "id": "6fe84f60-b070-4aeb-bde1-8df049c07b37",
   "metadata": {},
   "source": [
    "# the difference between del, remove , pop\n",
    "remove(\"specific string\" or number)\n",
    "pop(\" specific index\")\n",
    "pop() - delete last iteam automatically\n",
    "del l1 [range index or specific index ]\n"
   ]
  },
  {
   "cell_type": "code",
   "execution_count": null,
   "id": "99c35340-edd8-4bb7-93ab-d1c40ea9c93a",
   "metadata": {},
   "outputs": [],
   "source": [
    "l1 = [ \"apple\",\"grapes\",\"banana\",\"orange\",\"guava\"]\n",
    "l1.clear()\n",
    "print(l1)"
   ]
  },
  {
   "cell_type": "markdown",
   "id": "f567b065-517c-4af9-90df-debd4164d177",
   "metadata": {},
   "source": [
    "clear -  remove all elements - []\n",
    "in del - it remove all stucture with elements - name not defined"
   ]
  },
  {
   "cell_type": "code",
   "execution_count": null,
   "id": "a682e988-7f32-4726-8ee5-d0155e8369dd",
   "metadata": {},
   "outputs": [],
   "source": [
    "l1 = [ \"apple\",\"grapes\",\"banana\",\"orange\",\"guava\"]\n",
    "l1.sort()\n",
    "print(l1)"
   ]
  },
  {
   "cell_type": "markdown",
   "id": "d6ac4c67-583c-4f86-bf0e-071efcc7b89f",
   "metadata": {},
   "source": [
    "#sorting  - is use to arrange the element in order ( weathher in ascending or decending order)\n",
    "for decending order sorting - syntax is { l1.sort(reverse = True)} - it reverse the order    "
   ]
  },
  {
   "cell_type": "code",
   "execution_count": null,
   "id": "82f7f804-5286-40c9-aad9-93390797f1b8",
   "metadata": {},
   "outputs": [],
   "source": [
    "l1 = [ \"apple\",\"grapes\",\"banana\",\"orange\",\"guava\"]\n",
    "l1.sort(reverse = True)\n",
    "print(l1)"
   ]
  },
  {
   "cell_type": "code",
   "execution_count": null,
   "id": "5dfee14e-a4ec-4dea-9581-889107dda09c",
   "metadata": {},
   "outputs": [],
   "source": [
    "l1 = [ \"apple\",\"grapes\",\"banana\",\"orange\",\"guava\"]\n",
    "l2 = l1.copy()\n",
    "print(l2)\n",
    "print(l1)"
   ]
  },
  {
   "cell_type": "code",
   "execution_count": null,
   "id": "cf1f41c4-803a-4824-a9d4-175b8acbb0cb",
   "metadata": {},
   "outputs": [],
   "source": [
    "l1 = [1,2,3,4,5,6,7,8,9]\n",
    "l2 = list(l1)\n",
    "print(l1)"
   ]
  },
  {
   "cell_type": "code",
   "execution_count": null,
   "id": "375b386d-d70c-4bd3-a62f-836848c077c1",
   "metadata": {},
   "outputs": [],
   "source": [
    "l1 = [1,2,3,4,5,6,7]\n",
    "l2 = l1[:]\n",
    "print(l1)"
   ]
  },
  {
   "cell_type": "code",
   "execution_count": null,
   "id": "ec9f8d73-e556-44fa-a845-4264f4256fd1",
   "metadata": {},
   "outputs": [],
   "source": [
    "l1 = [4,5,6,7,8,9,4]\n",
    "l2 = [1, 2,0.54]\n",
    "l3 = l1+l2\n",
    "print(l3)"
   ]
  },
  {
   "cell_type": "code",
   "execution_count": null,
   "id": "0dcf23b9-183f-44ac-9eb1-6d7e123bed59",
   "metadata": {},
   "outputs": [],
   "source": [
    "l1 = [\"apple\",\"grapes\",\"banana\"]\n",
    "x = l1.index(\"grapes\")\n",
    "print(x)\n"
   ]
  },
  {
   "cell_type": "code",
   "execution_count": null,
   "id": "e28d1386-b5ee-4422-a5e5-64580127b63d",
   "metadata": {},
   "outputs": [],
   "source": [
    "l1 = [4,5,6,7,8,9,4]\n",
    "x = l1.index(7)\n",
    "print(x)"
   ]
  },
  {
   "cell_type": "code",
   "execution_count": null,
   "id": "c814da44-6bbe-4b72-b2ca-e0bd6247c752",
   "metadata": {},
   "outputs": [],
   "source": [
    "l1 = [4,5,6,7,8,9,4,9,9,9,9]\n",
    "x = l1.count(9)\n",
    "print(x)"
   ]
  },
  {
   "cell_type": "code",
   "execution_count": null,
   "id": "1554a316-8dc1-4ece-81b3-d25f8f955393",
   "metadata": {},
   "outputs": [],
   "source": [
    "# mathematical operation\n",
    "#1 > ARTHIMATIC OPERATIONS -  + , -, / ,% ,// , ** \n",
    "#/ - DIVISION GIVE -  QUESTIANT\n",
    "#% - GIVE REMAINDER\n",
    "#//- GIVE OUESTIANT IN ONLY INTEGER (// -FLOAR DIVISION)\n",
    "#** -  EXPONIATIONFUNCTION X**Y\n"
   ]
  },
  {
   "cell_type": "markdown",
   "id": "37906ca7-057a-4a96-bf11-2061d54d583e",
   "metadata": {},
   "source": [
    "x= 30/4\n",
    "print(x)"
   ]
  },
  {
   "cell_type": "code",
   "execution_count": null,
   "id": "8e21eb6a-808f-4b04-b436-da312f938ea0",
   "metadata": {},
   "outputs": [],
   "source": [
    "x = 40%3\n",
    "print(x)"
   ]
  },
  {
   "cell_type": "code",
   "execution_count": null,
   "id": "c26ee6e0-13cb-40d9-9b1a-1b4acb14ce37",
   "metadata": {},
   "outputs": [],
   "source": [
    "x = 42// 5\n",
    "print(x)"
   ]
  },
  {
   "cell_type": "code",
   "execution_count": null,
   "id": "5bfb5d5a-6a8f-45eb-be4e-847d1269e13a",
   "metadata": {},
   "outputs": [],
   "source": [
    "A = 3 ** 4\n",
    "print(A)"
   ]
  },
  {
   "cell_type": "markdown",
   "id": "ff68967b-9f92-4f24-8f5f-564d22fd7e4c",
   "metadata": {},
   "source": [
    "Assignmment 1\n"
   ]
  },
  {
   "cell_type": "code",
   "execution_count": null,
   "id": "d45f1435-ff1b-481e-9520-06a250939161",
   "metadata": {},
   "outputs": [],
   "source": [
    "print(\"Uditya Seth\")        # print() - is use to print anything weather it is a string or variable\n",
    "print(\"Hello World\")\n",
    "print(\" Hello AAFT \")"
   ]
  },
  {
   "cell_type": "code",
   "execution_count": null,
   "id": "68519b5d-a338-4246-98dc-7b0f444e1682",
   "metadata": {},
   "outputs": [],
   "source": [
    "a=2\n",
    "b=3\n",
    "c= a+b         #mathematical operations\n",
    "d= a-b\n",
    "e= a*b\n",
    "f= a/b\n",
    "g= a%b\n",
    "print(c,d,e,f,g)"
   ]
  },
  {
   "cell_type": "code",
   "execution_count": null,
   "id": "0e7df7db-e0df-45aa-aeb8-de6f30b36bca",
   "metadata": {},
   "outputs": [],
   "source": [
    "# if we want to know the type\n",
    "print(type(c))\n",
    "print(type(d))\n",
    "print(type(e))\n",
    "print(type(f))\n",
    "print(type(g))\n",
    "a = (\"uditya\")\n",
    "print(type(a))\n",
    "\n"
   ]
  },
  {
   "cell_type": "code",
   "execution_count": null,
   "id": "7d0877a1-27fd-4b63-9038-05d9167aca04",
   "metadata": {},
   "outputs": [],
   "source": [
    "# list , tupple ,set, dict\n",
    "banks = [ \"icic\",\"hdfc\",\"pnb\"]\n",
    "print(banks)\n",
    "print(type(banks))\n",
    "\n",
    "hospitals = ( \"apex\",\"apollo\",\"shreeji\",\"dental\")\n",
    "print(hospitals)\n",
    "print(type(hospitals))\n",
    "\n",
    "movies = { \"romeo\",\"kill\",\"smuf\"}\n",
    "print(movies)\n",
    "print(type(movies))\n",
    "\n",
    "d={\"name\":\"uditya\",\"class\":\"1 year\"} # here two thing name is key and uditya is value such like class is a key 1 year is a value\n",
    "print(d)\n",
    "print(type(d))"
   ]
  },
  {
   "cell_type": "code",
   "execution_count": null,
   "id": "c03c8a18-a4ca-43c3-9fab-1e716e8c184e",
   "metadata": {},
   "outputs": [],
   "source": [
    "print(range(0,100))\n",
    "print(range(45,100))\n",
    "print(range(-8,50))"
   ]
  },
  {
   "cell_type": "code",
   "execution_count": null,
   "id": "a9523f2d-f184-4e16-a1c0-6e195387ccfe",
   "metadata": {},
   "outputs": [],
   "source": [
    "ls = [ \"phone\",\"pc\",\"ps\",\"headphones\"]\n",
    "print(ls)\n",
    "ls = [\"phone\",2,0.15,'dj']            #list can be changeble \n",
    "print(ls)\n"
   ]
  },
  {
   "cell_type": "code",
   "execution_count": null,
   "id": "34c7c930-b33e-4e71-adcc-16cd1bb7e76a",
   "metadata": {},
   "outputs": [],
   "source": [
    "# array\n",
    "x = [ 1, 2 ,3 ,4 ,5]\n",
    "print(x)\n",
    "print(type(x))"
   ]
  },
  {
   "cell_type": "code",
   "execution_count": null,
   "id": "3bb64681-8cca-4dda-b9d0-a45eed8e912f",
   "metadata": {},
   "outputs": [],
   "source": [
    "# indexing\n",
    "s = [1,2,5,9,7]\n",
    "print(s[2])\n",
    "print(s[3])"
   ]
  },
  {
   "cell_type": "code",
   "execution_count": null,
   "id": "98b611e4-25a5-4e1e-b3c1-1b2311e9764d",
   "metadata": {},
   "outputs": [],
   "source": [
    "a= ['apple',\"grapes\",\"orange\",1,2,5,75,95,74]\n",
    "print(a[2])\n",
    "print(a[4])\n",
    "print(a[4:9])\n",
    "print(a[:5])\n",
    "print(a[6:])"
   ]
  },
  {
   "cell_type": "code",
   "execution_count": null,
   "id": "a0d0326e-5686-4352-915b-14542fa7d785",
   "metadata": {},
   "outputs": [],
   "source": [
    "# ASSIGNMENT OPERATOR\n",
    "X=5\n",
    "X=X+6\n",
    "print(X)\n"
   ]
  },
  {
   "cell_type": "code",
   "execution_count": null,
   "id": "9136a2ea-4010-421d-ad5e-6d4c1480c75c",
   "metadata": {},
   "outputs": [],
   "source": [
    "# tupple\n",
    "e=(1,2,3,4,5,)\n",
    "print(e)\n",
    "print(type(e))\n",
    "len(e)"
   ]
  },
  {
   "cell_type": "code",
   "execution_count": null,
   "id": "feb2ea4c-d5ab-496c-b338-7ac33ef1dd39",
   "metadata": {},
   "outputs": [],
   "source": [
    "a = (1 , 2, 3, 4)\n",
    "thislist = list(a)\n",
    "thislist\n",
    "thislist.pop(2)"
   ]
  },
  {
   "cell_type": "code",
   "execution_count": null,
   "id": "2663f240-dab0-431d-bf00-d276ebfd7299",
   "metadata": {},
   "outputs": [],
   "source": [
    "t1= ('AAFT')\n",
    "print(t1)\n",
    "print(type(t1))"
   ]
  },
  {
   "cell_type": "code",
   "execution_count": null,
   "id": "1e2fc11e-e4ab-4da8-99e3-798960941e00",
   "metadata": {},
   "outputs": [],
   "source": [
    "t1=(\"AAFT\",)\n",
    "print(t1)                         # for single element we use comma to reprsent a tupple  other wise it show  string in  output intsit of tupple\n",
    "print(type(t1))"
   ]
  },
  {
   "cell_type": "code",
   "execution_count": null,
   "id": "484c5a8c-d28d-48d8-90e8-4227dc98f54a",
   "metadata": {},
   "outputs": [],
   "source": [
    "t2=(1)\n",
    "print(t2)\n",
    "print(type(t2))"
   ]
  },
  {
   "cell_type": "code",
   "execution_count": null,
   "id": "ea89380e-67fc-4362-854a-eb57ac715389",
   "metadata": {},
   "outputs": [],
   "source": [
    "t2=(1,)\n",
    "print(t2)               # for single element to represent  a tupple we use comma instead it show int its type\n",
    "print(type(t2))"
   ]
  },
  {
   "cell_type": "code",
   "execution_count": null,
   "id": "b518f4ad-bf0c-4f8b-b720-8cdbfe447d12",
   "metadata": {},
   "outputs": [],
   "source": [
    "# indexing in tupple\n",
    "thistupple=(\"apple\",\"banana\",\"grapes\")\n",
    "print(thistupple[1])"
   ]
  },
  {
   "cell_type": "code",
   "execution_count": null,
   "id": "19a1eb94-149e-43a1-9e70-9a3c7b1defe2",
   "metadata": {},
   "outputs": [],
   "source": [
    "t1 = (1,2,3,4,5,6,7,8,9)\n",
    "print(t1[1])"
   ]
  },
  {
   "cell_type": "code",
   "execution_count": null,
   "id": "4e0dbb60-2268-46a9-b4c8-331a8af74e75",
   "metadata": {},
   "outputs": [],
   "source": [
    "print(t1[2:5])"
   ]
  },
  {
   "cell_type": "code",
   "execution_count": null,
   "id": "0472a1cb-2487-4ee8-bace-62f0a1df04be",
   "metadata": {},
   "outputs": [],
   "source": [
    "print(t1[-4:-2])"
   ]
  },
  {
   "cell_type": "code",
   "execution_count": null,
   "id": "bad30e61-242a-46bc-939b-50f8e48b3a6d",
   "metadata": {},
   "outputs": [],
   "source": [
    "print(t1[:])"
   ]
  },
  {
   "cell_type": "code",
   "execution_count": null,
   "id": "c9552c19-c2e3-43a9-8a76-3d3b75dd4432",
   "metadata": {},
   "outputs": [],
   "source": [
    "print(t1[-4:])"
   ]
  },
  {
   "cell_type": "code",
   "execution_count": null,
   "id": "d8859c6c-8a3d-456f-b533-73066f50a597",
   "metadata": {},
   "outputs": [],
   "source": [
    "print(t1[1:])"
   ]
  },
  {
   "cell_type": "code",
   "execution_count": null,
   "id": "a9c49d76-d443-4eb9-9c01-8647867121a6",
   "metadata": {},
   "outputs": [],
   "source": [
    "print(t1[0:4])"
   ]
  },
  {
   "cell_type": "code",
   "execution_count": null,
   "id": "c70f65c0-edb1-486b-b1c0-c30816a938e1",
   "metadata": {},
   "outputs": [],
   "source": [
    "print(t1[:4])"
   ]
  },
  {
   "cell_type": "code",
   "execution_count": null,
   "id": "235193e8-58bf-41e2-95a6-357d79d13102",
   "metadata": {},
   "outputs": [],
   "source": [
    "print(t1[:-2])"
   ]
  },
  {
   "cell_type": "code",
   "execution_count": null,
   "id": "adf2a6ee-32bd-4c4e-8b3e-4652699c7d81",
   "metadata": {},
   "outputs": [],
   "source": [
    "# list = muttable\n",
    "# tupple = immutable"
   ]
  },
  {
   "cell_type": "code",
   "execution_count": null,
   "id": "08c348c2-dad0-4ff7-84f5-0fcbe8a6a512",
   "metadata": {},
   "outputs": [],
   "source": [
    "#conversion of tupple into list\n",
    "l1=(1,2,3,4,5,6)\n",
    "print(l1)\n",
    "print(type(l1))\n",
    "l1=(1,2,3,4,5,6)\n",
    "c = list(l1)\n",
    "print(c)\n",
    "print(type(c))\n"
   ]
  },
  {
   "cell_type": "code",
   "execution_count": null,
   "id": "c8239c97-9be1-4439-9fa7-1032a831a580",
   "metadata": {},
   "outputs": [],
   "source": [
    "# updation of tuple\n",
    "c[2]=81\n",
    "print(c)"
   ]
  },
  {
   "cell_type": "code",
   "execution_count": null,
   "id": "2e4d904d-2375-40f8-8377-9581211d2179",
   "metadata": {},
   "outputs": [],
   "source": [
    "# updation of tupple\n",
    "c[4]=45\n",
    "print(c)"
   ]
  },
  {
   "cell_type": "code",
   "execution_count": null,
   "id": "fb6a988b-da39-4bb5-ae2c-7696367e0dd9",
   "metadata": {},
   "outputs": [],
   "source": [
    "# coversion to tupple\n",
    "x = tuple(c)\n",
    "print(x)\n",
    "print(type(x))"
   ]
  },
  {
   "cell_type": "code",
   "execution_count": null,
   "id": "d346f994-1dfb-4757-954d-6ad1ed6f8f42",
   "metadata": {},
   "outputs": [],
   "source": [
    "t3 =('apple','grapes','mango')\n",
    "t2 =list(t3)\n",
    "print(t2)\n",
    "print(type(t2))"
   ]
  },
  {
   "cell_type": "code",
   "execution_count": null,
   "id": "792ae579-143f-4153-a221-a0bb2faf44e1",
   "metadata": {},
   "outputs": [],
   "source": [
    "t2.remove(\"apple\")\n"
   ]
  },
  {
   "cell_type": "code",
   "execution_count": null,
   "id": "91132feb-95cc-4080-aea2-7799070e83dd",
   "metadata": {},
   "outputs": [],
   "source": [
    "t2"
   ]
  },
  {
   "cell_type": "code",
   "execution_count": null,
   "id": "85a29ef9-2b42-44ee-a1cc-7d08355e8722",
   "metadata": {},
   "outputs": [],
   "source": [
    "t3 = tuple(t2)\n",
    "print (type(t3))\n",
    "print(t3)"
   ]
  },
  {
   "cell_type": "code",
   "execution_count": null,
   "id": "1d4f3bbc-3cdf-4cb2-a84c-691b8bcd9b92",
   "metadata": {},
   "outputs": [],
   "source": [
    "tuple1 = (1,2,3,4,5)\n",
    "y = (33,)\n",
    "tuple1 += y\n",
    "print (tuple1)\n"
   ]
  },
  {
   "cell_type": "code",
   "execution_count": null,
   "id": "70e4f5d5-2a7e-4c03-a23b-a5735ccf4210",
   "metadata": {},
   "outputs": [],
   "source": [
    "tupl1 = (\"a\",\"b\",\"c\")\n",
    "tuple2 =(1,2,3)\n",
    "tuple3 = tuple1 + tuple2\n",
    "print(tuple3)"
   ]
  },
  {
   "cell_type": "code",
   "execution_count": null,
   "id": "87edce2f-d0f0-4367-8ef6-70b730930c85",
   "metadata": {},
   "outputs": [],
   "source": [
    "t1 = ( \"apple\",\"grapes\",\"orange\")\n",
    "x =(\"mango\",)\n",
    "t1  += x\n",
    "print(t1)"
   ]
  },
  {
   "cell_type": "code",
   "execution_count": null,
   "id": "850195b5-36d1-4cc6-83ac-9636931517df",
   "metadata": {},
   "outputs": [],
   "source": [
    "t1 = (\"apple\",\"grapes\",\"orange\")\n",
    "y =t1*2\n",
    "print(y)"
   ]
  },
  {
   "cell_type": "code",
   "execution_count": null,
   "id": "8727c403-7965-42d0-a06e-3eb4401a3c43",
   "metadata": {},
   "outputs": [],
   "source": [
    "t1 = (1,2,3,4,5,6,7)\n",
    "x = t1.index(3)\n",
    "print(x)"
   ]
  },
  {
   "cell_type": "code",
   "execution_count": null,
   "id": "57fa94d4-754a-4e38-9e31-b74a57cbbaae",
   "metadata": {},
   "outputs": [],
   "source": [
    "# strrings\n",
    "print(\"hello world\") "
   ]
  },
  {
   "cell_type": "code",
   "execution_count": null,
   "id": "de1d02fd-b481-4f9a-b2e6-9aa69b5ac2a8",
   "metadata": {},
   "outputs": [],
   "source": [
    "print('Hello World')"
   ]
  },
  {
   "cell_type": "code",
   "execution_count": null,
   "id": "6854efc6-6773-4912-8eab-4b1a05f08ae4",
   "metadata": {},
   "outputs": [],
   "source": [
    "x = 'Hello World'\n",
    "print(x)"
   ]
  },
  {
   "cell_type": "code",
   "execution_count": null,
   "id": "351cfbbd-c82e-4807-814e-6e6d79f47b7d",
   "metadata": {},
   "outputs": [],
   "source": [
    "x = ''' python is prog language\n",
    "      it is case sensitive\n",
    "      it is easy to understand'''  # it is use ''' ---------                                                    ---------\n",
    "print(x)                                     ---------------'''     it is use  to write more than one string in program"
   ]
  },
  {
   "cell_type": "code",
   "execution_count": null,
   "id": "4d622430-0bc2-4bbb-92e9-28524b7f0fda",
   "metadata": {},
   "outputs": [],
   "source": [
    "a = 'hello, world!'\n",
    "print(a[5])          # indexing in python we during indexing if there is a gap so we get to know regarding it\n",
    "print(a[6])                 and comma or special notations to"
   ]
  },
  {
   "cell_type": "code",
   "execution_count": null,
   "id": "699dade2-26af-43b0-9d2c-e60e6214e165",
   "metadata": {},
   "outputs": [],
   "source": [
    "print(a[1])"
   ]
  },
  {
   "cell_type": "code",
   "execution_count": null,
   "id": "d553b0b6-1efb-4459-b117-9e5fa6823816",
   "metadata": {},
   "outputs": [],
   "source": [
    "print(len(a))# len is use to lenght of of our string char or var"
   ]
  },
  {
   "cell_type": "code",
   "execution_count": null,
   "id": "cb0b14a7-30a7-4c34-acc1-5653303dbaa0",
   "metadata": {},
   "outputs": [],
   "source": [
    "txt = \"the best things inlife are free!\"\n",
    "print(\"the\" in txt)                        # in function is use to tell the word which u have entered in a program it is present or not and it gives output in true or false"
   ]
  },
  {
   "cell_type": "code",
   "execution_count": null,
   "id": "0110966d-cded-4abb-909d-79df9812ec38",
   "metadata": {},
   "outputs": [],
   "source": [
    "txt = \"the best things in life are free!\"\n",
    "print(\"in \" in txt)\n",
    "print(\"love\" not in txt)"
   ]
  },
  {
   "cell_type": "code",
   "execution_count": null,
   "id": "3211c339-80a5-4ccb-a60c-371d459b16e0",
   "metadata": {},
   "outputs": [],
   "source": [
    "txt = \"the best things in life are free!\"\n",
    "print(\"uditya\" in txt)\n",
    "print(\"rahul\" not in txt) # not in fuction tell wheather this word is present in ur txt or not"
   ]
  },
  {
   "cell_type": "code",
   "execution_count": null,
   "id": "94eb8b84-3381-4823-aa64-679acb0c2131",
   "metadata": {},
   "outputs": [],
   "source": [
    "a = (  \"Hello World\"  )\n",
    "print(a.strip())      # strip function is use to remove spaceing from front and back side of the word"
   ]
  },
  {
   "cell_type": "code",
   "execution_count": null,
   "id": "0207ad54-5ca4-4d71-aa69-d79a4d7c0af3",
   "metadata": {},
   "outputs": [],
   "source": [
    "a = \" rohit \"                          # replace is is use to replace single character or sentence in python\n",
    "print(a.replace(\"i\" ,\"R\"))"
   ]
  },
  {
   "cell_type": "code",
   "execution_count": null,
   "id": "09a3cf2f-9c19-4629-b4fa-4dc433e7f07d",
   "metadata": {},
   "outputs": [],
   "source": [
    "a = 'kalu'\n",
    "print(a.upper()) # upper function is use to "
   ]
  },
  {
   "cell_type": "code",
   "execution_count": null,
   "id": "66f893c4-3fbc-4129-8529-57bbf023bde3",
   "metadata": {},
   "outputs": [],
   "source": [
    "a = 'LIME'\n",
    "print(a.lower())"
   ]
  },
  {
   "cell_type": "code",
   "execution_count": null,
   "id": "6be41495-6d0f-4a0a-9f4b-4c7f3b23addf",
   "metadata": {},
   "outputs": [],
   "source": [
    "# string concatination\n",
    "a = \" hello\"\n",
    "b = \"students\"\n",
    "c = a + b\n",
    "print(c)"
   ]
  },
  {
   "cell_type": "code",
   "execution_count": null,
   "id": "8f93befd-5034-4296-aa24-622a908ece2d",
   "metadata": {},
   "outputs": [],
   "source": []
  },
  {
   "cell_type": "code",
   "execution_count": null,
   "id": "1841e109-bbb7-428c-80e7-c14f427e57c7",
   "metadata": {},
   "outputs": [],
   "source": [
    "c = a+ \"  \" +b\n",
    "print(c)"
   ]
  },
  {
   "cell_type": "code",
   "execution_count": null,
   "id": "4c2d4c7e-57db-4f84-8a9d-49bc111e207b",
   "metadata": {},
   "outputs": [],
   "source": [
    "age = 23\n",
    "txt = \" my name is john , i am \" + age\n",
    "print(txt)"
   ]
  },
  {
   "cell_type": "code",
   "execution_count": null,
   "id": "52a13035-12c5-45fd-8ab0-54f673a4e2f3",
   "metadata": {},
   "outputs": [],
   "source": [
    "age = 23\n",
    "txt = f\" my name is john , I am {age}\"\n",
    "print(txt)"
   ]
  },
  {
   "cell_type": "code",
   "execution_count": null,
   "id": "898f1655-b3ec-4023-a4ed-4b69eca7e648",
   "metadata": {},
   "outputs": [],
   "source": [
    "price = 59\n",
    "txt = f\" The price is {price} dollars \" \n",
    "print(txt)"
   ]
  },
  {
   "cell_type": "code",
   "execution_count": null,
   "id": "da74cea5-9abf-46ab-9b04-679c0d74ea1f",
   "metadata": {},
   "outputs": [],
   "source": [
    "price = 59\n",
    "txt = f\" The price is {price:.2f} dollars \" # for printing a point\n",
    "print(txt)"
   ]
  },
  {
   "cell_type": "code",
   "execution_count": null,
   "id": "9ae00c7f-b28c-4ec2-ad85-43f6ce5f700a",
   "metadata": {},
   "outputs": [],
   "source": [
    "a= \"hello india\"\n",
    "print(a.capitalize())       # capitalize is use to write first letter in capital  "
   ]
  },
  {
   "cell_type": "code",
   "execution_count": null,
   "id": "5a1627b6-2c6a-4462-8953-a49772cdd73c",
   "metadata": {},
   "outputs": [],
   "source": [
    "txt = \" india is my country\"\n",
    "y = txt.title()              # title function is use to write first letter  of each word or sentence\n",
    "print(y)"
   ]
  },
  {
   "cell_type": "code",
   "execution_count": null,
   "id": "45d5dfd4-0e8a-4eb8-beda-517cfcbcad5a",
   "metadata": {},
   "outputs": [],
   "source": [
    "txt = \" india is my country\"\n",
    "y = txt.split()              # split function is use to split  letter  of each word or sentence\n",
    "print(y)"
   ]
  },
  {
   "cell_type": "code",
   "execution_count": null,
   "id": "e524b0dc-36f3-4f91-b02e-8f4fad55fdec",
   "metadata": {},
   "outputs": [],
   "source": [
    "txt = \" india is my country\"\n",
    "y = txt.split()              # split function is use to split  letter  of each word or sentence\n",
    "print(y)"
   ]
  },
  {
   "cell_type": "code",
   "execution_count": null,
   "id": "33ab513b-484e-4f40-b843-e0775899d52d",
   "metadata": {},
   "outputs": [],
   "source": [
    "txt = \" india is my country\"\n",
    "y = txt.count(\"country\")              # split function is use to split  letter  of each word or sentence\n",
    "print(y)"
   ]
  },
  {
   "cell_type": "code",
   "execution_count": null,
   "id": "8258bdd7-8e3a-46e6-9ed2-cdcfe6c87b6b",
   "metadata": {},
   "outputs": [],
   "source": [
    "txt = \" i love apple , apple are my favourite  fruite\"\n",
    "c = txt.count(\"apple\",10,24)\n",
    "print(c)"
   ]
  },
  {
   "cell_type": "code",
   "execution_count": null,
   "id": "57d53b85-f558-4e01-b9d7-80c7a7de269a",
   "metadata": {},
   "outputs": [],
   "source": [
    "txt = \" i love apple , apple are my favourite  fruite\"\n",
    "c = txt.count(\"favourite\") # count tell the positions\n",
    "print(c)"
   ]
  },
  {
   "cell_type": "code",
   "execution_count": null,
   "id": "a23bfdb4-b827-4bc1-aa6c-703fc1265b15",
   "metadata": {},
   "outputs": [],
   "source": [
    "txt = \" i love apple , apple are my favourite  fruite\"\n",
    "c=txt[5:]"
   ]
  },
  {
   "cell_type": "code",
   "execution_count": null,
   "id": "dde769cc-a9ae-47fe-a5c3-082f72186644",
   "metadata": {},
   "outputs": [],
   "source": [
    "c"
   ]
  },
  {
   "cell_type": "code",
   "execution_count": null,
   "id": "96edbb35-e78c-48e3-9498-33b4e79b0d1d",
   "metadata": {},
   "outputs": [],
   "source": [
    "txt = \" i love apple , apple are my favourite  fruite\"\n",
    "c = txt.find(\"apple\")   \n",
    "print(c)"
   ]
  },
  {
   "cell_type": "code",
   "execution_count": null,
   "id": "7be190f2-5a83-4c0b-9b52-5ee69fc03140",
   "metadata": {},
   "outputs": [],
   "source": [
    "set1 = {1,2,3,4,5,6}\n",
    "print(set1)"
   ]
  },
  {
   "cell_type": "code",
   "execution_count": null,
   "id": "0880ab98-24e9-4956-8e87-6e3b1ea40e32",
   "metadata": {},
   "outputs": [],
   "source": [
    "set2 = {1,1,1,2,2,3,3,4,5,6}\n",
    "print(set2)"
   ]
  },
  {
   "cell_type": "code",
   "execution_count": null,
   "id": "e4d43a31-286d-4598-92f1-133f6c209c69",
   "metadata": {},
   "outputs": [],
   "source": [
    "x = {1,2,3,4,5,6}\n",
    "print(x)"
   ]
  },
  {
   "cell_type": "code",
   "execution_count": null,
   "id": "89df6b3f-9c8f-4955-834c-d492e9041953",
   "metadata": {},
   "outputs": [],
   "source": [
    "c ={ \"A\",\"B\",\"C\",\"D\"}\n",
    "print(c)"
   ]
  },
  {
   "cell_type": "code",
   "execution_count": null,
   "id": "ff62b826-8eaf-4578-b841-25d389cc5533",
   "metadata": {},
   "outputs": [],
   "source": [
    "d = {'a',1,'s',3,'s',5}\n",
    "print(d)"
   ]
  },
  {
   "cell_type": "code",
   "execution_count": null,
   "id": "97231bba-283b-418c-b553-8d1c164283db",
   "metadata": {},
   "outputs": [],
   "source": [
    "print(len(d))\n",
    "print(len(c))\n",
    "print(len(x))\n",
    "print(len(set1))\n",
    "print(len(set2))"
   ]
  },
  {
   "cell_type": "code",
   "execution_count": null,
   "id": "6ccaecfd-b6e7-4d5d-b8c1-16c4bfc10c44",
   "metadata": {},
   "outputs": [],
   "source": [
    "print(type(d))\n",
    "print(type(c))\n",
    "print(type(x))\n",
    "print(type(set1))\n",
    "print(type(set2))"
   ]
  },
  {
   "cell_type": "code",
   "execution_count": null,
   "id": "10d963eb-e484-4965-9b07-b50903d93b2f",
   "metadata": {},
   "outputs": [],
   "source": [
    "s ={\"apple\",\"banana\",\"grapes\"}\n",
    "\"grapes\" in s"
   ]
  },
  {
   "cell_type": "code",
   "execution_count": null,
   "id": "f0ec030a-b84a-4bda-a05b-0bb5155c3af5",
   "metadata": {},
   "outputs": [],
   "source": [
    "s ={\"apple\",\"banana\",\"grapes\"}\n",
    "s.add(\"guava\")\n",
    "print(s)"
   ]
  },
  {
   "cell_type": "code",
   "execution_count": null,
   "id": "c1b29c76-7efe-4811-bf6c-08b29c66f58a",
   "metadata": {},
   "outputs": [],
   "source": [
    "s ={\"apple\",\"banana\",\"grapes\"}\n",
    "x = {\"pineapple\",\"mango\",\"papaya\"}\n",
    "s.update(x)\n",
    "print(s)"
   ]
  },
  {
   "cell_type": "code",
   "execution_count": null,
   "id": "426282fe-3086-4966-ba48-0c46d1078e58",
   "metadata": {},
   "outputs": [],
   "source": [
    "x = {\"apple\",\"banana\",\"cherry\"}\n",
    "y = [\"kiwi\",\"orange\"]\n",
    "x.update(y)\n",
    "print(x)"
   ]
  },
  {
   "cell_type": "code",
   "execution_count": null,
   "id": "f8fb1129-6152-4057-ba97-f1b71ab8a0fd",
   "metadata": {},
   "outputs": [],
   "source": [
    "x = {\"apple\",\"banana\",\"grapes\"}\n",
    "x.remove(\"grapes\")\n",
    "print(x)"
   ]
  },
  {
   "cell_type": "code",
   "execution_count": null,
   "id": "b010a1a7-337a-4e50-bb2f-178f2e83f823",
   "metadata": {},
   "outputs": [],
   "source": [
    "s ={1,2,3,4,5,6}\n",
    "s.discard(5)\n",
    "print(x)"
   ]
  },
  {
   "cell_type": "code",
   "execution_count": null,
   "id": "f69501e7-c143-4abc-981a-bf6b01e5eb18",
   "metadata": {},
   "outputs": [],
   "source": [
    "s ={1,2,3,4,5,6}\n",
    "s.discard(8)              #in discard if we  the other element in set so it will so  no error and print the set as it is\n",
    "print(x)"
   ]
  },
  {
   "cell_type": "code",
   "execution_count": null,
   "id": "8d4f95cf-1415-4951-9bf1-2eb8d784ae51",
   "metadata": {},
   "outputs": [],
   "source": [
    "s ={1,2,3,4,5,6}\n",
    "s.remove(8)        #in remove if we  the other element in set so it will so error\n",
    "print(x)"
   ]
  },
  {
   "cell_type": "code",
   "execution_count": null,
   "id": "abfec798-b681-49c4-82dc-802cac83846e",
   "metadata": {},
   "outputs": [],
   "source": [
    "x={1,2,3,4,5,6}\n",
    "x.clear()\n",
    "print(x)"
   ]
  },
  {
   "cell_type": "code",
   "execution_count": null,
   "id": "d9e2c48e-d25b-41e2-95ad-f686db1721ad",
   "metadata": {},
   "outputs": [],
   "source": [
    "x={1,2,3,4,5,6}\n",
    "del x\n",
    "print(x)"
   ]
  },
  {
   "cell_type": "code",
   "execution_count": null,
   "id": "a55ae967-be15-496e-8082-820e7676f63e",
   "metadata": {},
   "outputs": [],
   "source": [
    "a = {1,2,3,4,5}\n",
    "b = {6,7,8,9}\n",
    "d = a.union(b)\n",
    "print(d)"
   ]
  },
  {
   "cell_type": "code",
   "execution_count": null,
   "id": "8c70f772-337c-4253-8de6-99a2da5e0f53",
   "metadata": {},
   "outputs": [],
   "source": [
    "a = {1,2,3,4,5}\n",
    "b = {6,7,8,9}\n",
    "d = a union b\n",
    "print(d)"
   ]
  },
  {
   "cell_type": "code",
   "execution_count": null,
   "id": "c619e6b6-23a7-4880-8815-17c7a6c69594",
   "metadata": {},
   "outputs": [],
   "source": [
    "s = { \"a\",\"b\",\"c\"}\n",
    "d = {1,2,3}         # | for joining of two set\n",
    "e = s|d\n",
    "print(e)"
   ]
  },
  {
   "cell_type": "code",
   "execution_count": null,
   "id": "e8069675-b19f-4d50-8d33-8e5a64f2f5d5",
   "metadata": {},
   "outputs": [],
   "source": [
    "s = { \"a\",\"b\",\"c\"}\n",
    "y = {1,2,3}\n",
    "z ={\"john\",\"elena\"}\n",
    "c ={\"apple\",\"grapes\",\"cherry\"}\n",
    "d = s.union(y,z,c)\n",
    "print(d)"
   ]
  },
  {
   "cell_type": "code",
   "execution_count": null,
   "id": "e28bf714-1f7e-42e0-b69d-f281cdfdd539",
   "metadata": {},
   "outputs": [],
   "source": [
    "s = { \"a\",\"b\",\"c\"}\n",
    "y = {1,2,3}\n",
    "z ={\"john\",\"elena\"}\n",
    "c ={\"apple\",\"grapes\",\"cherry\"}\n",
    "d = y|z|c|s\n",
    "print(d)"
   ]
  },
  {
   "cell_type": "code",
   "execution_count": null,
   "id": "1aeaedb0-a38f-46ab-9f7c-22663d30c710",
   "metadata": {},
   "outputs": [],
   "source": [
    "c ={\"apple\",\"grapes\",\"cherry\"}\n",
    "c.POP()   "
   ]
  },
  {
   "cell_type": "code",
   "execution_count": null,
   "id": "f8fe4c7c-caf1-4213-b46f-b2d5ba85d2f3",
   "metadata": {},
   "outputs": [],
   "source": [
    "c ={\"apple\",\"grapes\",\"cherry\"}\n",
    "d ={ 1,2,3,'cherry'}\n",
    "e=c.intersection(d)  \n",
    "print(e)"
   ]
  },
  {
   "cell_type": "code",
   "execution_count": null,
   "id": "1636ebc8-ba0c-48cd-a29d-dfcc81b45141",
   "metadata": {},
   "outputs": [],
   "source": [
    "c ={\"apple\",\"grapes\",\"cherry\"}\n",
    "d ={ 1,2,3,'cherry'}\n",
    "e=d.intersection(c)  \n",
    "print(e)"
   ]
  },
  {
   "cell_type": "code",
   "execution_count": null,
   "id": "72fb0321-f5fc-4a0c-921e-74bbfdf4b281",
   "metadata": {},
   "outputs": [],
   "source": [
    "c ={\"apple\",\"grapes\",\"cherry\"}\n",
    "d ={ 1,2,3,'cherry'}\n",
    "e=c.difference(d)  \n",
    "print(e)"
   ]
  },
  {
   "cell_type": "code",
   "execution_count": null,
   "id": "c11ec9f8-6d91-4e68-b968-9c5e960ba5b9",
   "metadata": {},
   "outputs": [],
   "source": [
    "c ={\"apple\",\"grapes\",\"cherry\"}\n",
    "d ={ 1,2,3,'cherry'}\n",
    "e=d.difference(c)  \n",
    "print(e)"
   ]
  },
  {
   "cell_type": "code",
   "execution_count": null,
   "id": "63f8870f-2df0-4600-b4ed-bde9e482d6e2",
   "metadata": {},
   "outputs": [],
   "source": [
    "# Practice\n"
   ]
  },
  {
   "cell_type": "code",
   "execution_count": null,
   "id": "87400338-4d42-4b84-b373-9c57971c4c8c",
   "metadata": {},
   "outputs": [],
   "source": [
    "setx = {'Smith','Jhon','Bush','clintm'}\n",
    "sety = {6,7,8,9,'Smith','Bush','Obama'}\n",
    "print (setx)  #printing function\n",
    "print (sety)"
   ]
  },
  {
   "cell_type": "code",
   "execution_count": null,
   "id": "884ac4c1-3256-4c65-ab1c-33c815334154",
   "metadata": {},
   "outputs": [],
   "source": [
    "x = {'Smith','Jhon','Bush','clintm'}\n",
    "y = {6,7,8,9,'Smith','Bush','Obama'}\n",
    "x.update(y)\n",
    "x"
   ]
  },
  {
   "cell_type": "code",
   "execution_count": null,
   "id": "8452f058-11ee-4e2c-b5a0-a2fd72aef9d9",
   "metadata": {},
   "outputs": [],
   "source": [
    "x = {'Smith','Jhon','Bush','clintm'}\n",
    "y = {6,7,8,9,'Smith','Bush','Obama'}\n",
    "x.add('y')\n",
    "y"
   ]
  },
  {
   "cell_type": "code",
   "execution_count": null,
   "id": "ca7f1b80-4c50-44b3-8379-df058be4e1e2",
   "metadata": {},
   "outputs": [],
   "source": [
    "x = {'Smith','Jhon','Bush','clintm'}\n",
    "y = {6,7,8,9,'Smith','Bush','Obama'}\n",
    "x.add('y')\n",
    "y"
   ]
  },
  {
   "cell_type": "code",
   "execution_count": null,
   "id": "549086c8-ea22-4bb2-8386-100d89763072",
   "metadata": {},
   "outputs": [],
   "source": [
    "x = {'Smith','Jhon','Bush','clintm'}\n",
    "y = {6,7,8,9,'Smith','Bush','Obama'}\n",
    "a=x|y # | pipe line operator\n",
    "a"
   ]
  },
  {
   "cell_type": "code",
   "execution_count": null,
   "id": "f909211b-9d8c-4910-93a5-7d188825b99b",
   "metadata": {},
   "outputs": [],
   "source": [
    "x = {'Smith','Jhon','Bush','clintm'}\n",
    "y = {6,7,8,9,'Smith','Bush','Obama'}\n",
    "x.union (y)\n",
    "x"
   ]
  },
  {
   "cell_type": "code",
   "execution_count": null,
   "id": "e6c8d339-7049-43c8-b315-708fd046eb54",
   "metadata": {},
   "outputs": [],
   "source": [
    "x = {'Smith','Jhon','Bush','clintm'}\n",
    "y = {6,7,8,9,'Smith','Bush','Obama'}\n",
    "x.pop()\n",
    "y.pop()"
   ]
  },
  {
   "cell_type": "code",
   "execution_count": null,
   "id": "c72af554-ff00-4850-a187-6d84819008be",
   "metadata": {},
   "outputs": [],
   "source": [
    "x = {'Smith','Jhon','Bush','clintm'}\n",
    "y = {6,7,8,9,'Smith','Bush','Obama'}\n",
    "x.pop()\n",
    "y.pop()"
   ]
  },
  {
   "cell_type": "code",
   "execution_count": null,
   "id": "a489dc84-12d6-4325-b646-e1cb7280428b",
   "metadata": {},
   "outputs": [],
   "source": [
    "x = {'Smith','Jhon','Bush','clintm'}\n",
    "y = {6,7,8,9,'Smith','Bush','Obama'}\n",
    "x.remove('Jhon')\n",
    "print(x)\n",
    "y.remove(7)\n",
    "print(y)\n"
   ]
  },
  {
   "cell_type": "code",
   "execution_count": null,
   "id": "54336028-c7ad-4922-9559-bb2344d4f299",
   "metadata": {},
   "outputs": [],
   "source": []
  },
  {
   "cell_type": "code",
   "execution_count": null,
   "id": "7a6ba5ec-ddbb-412d-a209-4d78c74e68f0",
   "metadata": {},
   "outputs": [],
   "source": [
    "# dictionary \n",
    "#order, changeble, do not allow duplicate values \n",
    "car_dict={\"brand\":\"bmw\",\"model\":\"ic\",\"year\":\"2024\"}\n",
    "print(car_dict)"
   ]
  },
  {
   "cell_type": "code",
   "execution_count": null,
   "id": "6aff0283-3533-4e27-b086-1f83618b1fca",
   "metadata": {},
   "outputs": [],
   "source": [
    "# accesing \n",
    "print(car_dict[\"brand\"])\n",
    "print(car_dict[\"year\"])\n",
    "print(car_dict[\"model\"])\n",
    "# 2 method of accesing\n",
    "car_dict.get(\"brand\")\n",
    "a =car_dict.get(\"year\")\n",
    "a\n"
   ]
  },
  {
   "cell_type": "code",
   "execution_count": null,
   "id": "6891855a-3392-4eef-b77a-82e86d0238ae",
   "metadata": {},
   "outputs": [],
   "source": [
    "#lenght\n",
    "print(len(car_dict))\n",
    "# type\n",
    "print(type(car_dict))"
   ]
  },
  {
   "cell_type": "code",
   "execution_count": null,
   "id": "82cd9ff1-2578-4719-80ca-779861227730",
   "metadata": {},
   "outputs": [],
   "source": [
    "# for duplicate key  - it always use the  last  value of particular element\n",
    "car_dict={\"brand\":\"bmw\",\"model\":\"ic\",\"year\":\"2024\",\"year\":1965}\n",
    "print(car_dict)\n",
    "car_dict={\"brand\":\"bmw\",\"model\":\"ic\",\"year\":\"1965\",\"year\":2025}"
   ]
  },
  {
   "cell_type": "code",
   "execution_count": null,
   "id": "cadf2f3c-d038-4afe-a4bc-8f922cd4af3a",
   "metadata": {},
   "outputs": [],
   "source": [
    "#for acees keys\n",
    "car_dict.keys()"
   ]
  },
  {
   "cell_type": "code",
   "execution_count": null,
   "id": "336d44e1-dfb2-4a2a-96bf-0167f1fc2e31",
   "metadata": {},
   "outputs": [],
   "source": [
    "#for acees values\n",
    "car_dict.values()"
   ]
  },
  {
   "cell_type": "code",
   "execution_count": null,
   "id": "3bbdb527-ffbc-4eda-8d4a-7ac42f89a180",
   "metadata": {},
   "outputs": [],
   "source": [
    "# to change values of dict\n",
    "car_dict[\"year\"]=2026\n",
    "car_dict\n",
    "\n"
   ]
  },
  {
   "cell_type": "code",
   "execution_count": null,
   "id": "d0f56dd8-0cbe-4165-9a41-72a6a9d1379a",
   "metadata": {},
   "outputs": [],
   "source": [
    "#to add new key:values items can be of any data type\n",
    "car_dict[\"color\"]=\"red\"\n",
    "car_dict"
   ]
  },
  {
   "cell_type": "code",
   "execution_count": null,
   "id": "abfa3e6b-78ac-47ba-9323-5bee24d37c82",
   "metadata": {},
   "outputs": [],
   "source": [
    "# to add any values in dictionary item can be of any data type\n",
    "d3= {'name':'A',\"year\":2024,\"pass\":\"true\",\"maarks\":[50,60,54]}\n",
    "d3.update({'years':2025})\n",
    "d3"
   ]
  },
  {
   "cell_type": "code",
   "execution_count": null,
   "id": "12a26e43-982a-454a-96de-e670e9395c57",
   "metadata": {},
   "outputs": [],
   "source": [
    "d3['phone_no']=4557\n",
    "d3"
   ]
  },
  {
   "cell_type": "code",
   "execution_count": null,
   "id": "6a4614b5-f58f-46b5-96ce-c7e6803e84cf",
   "metadata": {},
   "outputs": [],
   "source": [
    "d3.update({'email':'asds@gmail.com'})\n",
    "d3"
   ]
  },
  {
   "cell_type": "code",
   "execution_count": null,
   "id": "22e562d2-2b97-41c1-9c77-f395438827c4",
   "metadata": {},
   "outputs": [],
   "source": [
    "d3= {'name':'A',\"year\":2024,\"pass\":\"true\",\"marks\":[50,60,54]}\n",
    "d3.pop(\"year\")\n",
    "d3"
   ]
  },
  {
   "cell_type": "code",
   "execution_count": null,
   "id": "9ff4bccf-03be-4534-b957-6a7103f74178",
   "metadata": {},
   "outputs": [],
   "source": [
    "print(d3.pop())"
   ]
  },
  {
   "cell_type": "code",
   "execution_count": null,
   "id": "51161308-494a-458d-87bb-4534f86e4420",
   "metadata": {},
   "outputs": [],
   "source": [
    "d3= {'name':'A',\"year\":2024,\"pass\":\"true\",\"marks\":[50,60,54]}\n",
    "del d3[\"marks\"]\n",
    "d3"
   ]
  },
  {
   "cell_type": "code",
   "execution_count": null,
   "id": "21821a56-e007-4d21-a70f-032fad9bbf01",
   "metadata": {},
   "outputs": [],
   "source": [
    "del d3\n",
    "d3"
   ]
  },
  {
   "cell_type": "code",
   "execution_count": null,
   "id": "a093a183-9d83-424d-b9a9-7151f1001375",
   "metadata": {},
   "outputs": [],
   "source": [
    "d3= {'name':'A',\"year\":2024,\"pass\":\"true\",\"marks\":[50,60,54]}\n",
    "d4=d3.copy()\n",
    "d4"
   ]
  },
  {
   "cell_type": "code",
   "execution_count": null,
   "id": "1f45833e-e80a-4788-9b33-39b9a0c06952",
   "metadata": {},
   "outputs": [],
   "source": [
    "myfamily = {\n",
    "    \"child\":{\n",
    "    \"name\":\"emil\",\n",
    "     \"year\":2004\n",
    "    },\n",
    "\"child2\":{\n",
    "    \"name\":\"rohit\",\n",
    "    \"year\":2007\n",
    "},\n",
    "\"child3\":{\n",
    "    \"name\": \"riya\",\n",
    "     \"year\":2011\n",
    "}\n",
    "}\n"
   ]
  },
  {
   "cell_type": "code",
   "execution_count": null,
   "id": "65f7782c-4b4f-47f0-82a0-5358477ddbfa",
   "metadata": {
    "scrolled": true
   },
   "outputs": [],
   "source": [
    "myfamily "
   ]
  },
  {
   "cell_type": "code",
   "execution_count": null,
   "id": "fe06d125-e5fb-4488-953e-1bd183c23291",
   "metadata": {},
   "outputs": [],
   "source": [
    "print(myfamily[\"child2\"][\"name\"])"
   ]
  },
  {
   "cell_type": "code",
   "execution_count": null,
   "id": "365e531e-ff33-4eea-a97c-ec28aec32f33",
   "metadata": {},
   "outputs": [],
   "source": [
    "a = [1,2,3,4,5,6,7,8,9]\n",
    "a.append(11)\n",
    "a\n",
    "print(len(a))"
   ]
  },
  {
   "cell_type": "code",
   "execution_count": null,
   "id": "4ff9c75c-565a-484e-b596-38d58d39d73c",
   "metadata": {},
   "outputs": [],
   "source": [
    "a[len(a)//2]\n"
   ]
  },
  {
   "cell_type": "code",
   "execution_count": null,
   "id": "6f6dc30b-29be-40a6-86ce-bfe566637106",
   "metadata": {},
   "outputs": [],
   "source": [
    "a.insert(4,0)\n",
    "a"
   ]
  },
  {
   "cell_type": "code",
   "execution_count": null,
   "id": "12beefd2-f415-4a32-a1f0-1dab5307f6b5",
   "metadata": {},
   "outputs": [],
   "source": [
    "# an if statement is written\n",
    "a = 50\n",
    "b = 100\n",
    "if b > a:\n",
    "    print(\"b is greater than a\")"
   ]
  },
  {
   "cell_type": "code",
   "execution_count": null,
   "id": "85cf328d-f859-452b-877e-979a3ef9f8f6",
   "metadata": {},
   "outputs": [],
   "source": [
    "a = 5766\n",
    "b = 43875643\n",
    "if b>a:\n",
    "    print(\"b is greater than a\")"
   ]
  },
  {
   "cell_type": "code",
   "execution_count": null,
   "id": "1f517150-2c58-477c-b762-4923a3be7d17",
   "metadata": {},
   "outputs": [],
   "source": [
    "#check if number is greater than 0\n",
    "num = int(input(\"enter a number\"))\n",
    "if num > 0:\n",
    "    print(\"num is positive\")"
   ]
  },
  {
   "cell_type": "code",
   "execution_count": null,
   "id": "a12d3bf9-2a95-4846-8486-76869977f5ca",
   "metadata": {},
   "outputs": [],
   "source": [
    "#if...else statement\n",
    "#if condition:\n",
    "#body of if statement\n",
    "#else:\n",
    "#body of else statement\n",
    "num= int(input(\"enter  a number\"))\n",
    "if num > 0:\n",
    "    print(\"given number is positive\")\n",
    "else:\n",
    "    print(\"gien number is negative\")"
   ]
  },
  {
   "cell_type": "code",
   "execution_count": null,
   "id": "0f02249e-2035-4fa9-8959-525611522b91",
   "metadata": {},
   "outputs": [],
   "source": [
    "#loop #even odd   - 15/10/24\n",
    "num = int(input(\"enter a number\"))\n",
    "if(num%2)==0:\n",
    "    print(\"even\")\n",
    "else:\n",
    "    print(\"odd\")"
   ]
  },
  {
   "cell_type": "code",
   "execution_count": null,
   "id": "2db7b762-097e-4cfd-b306-df22b93d745e",
   "metadata": {},
   "outputs": [],
   "source": [
    "# elif\n",
    "a = 11\n",
    "b = 11\n",
    "if b > a:\n",
    "    print(\" b is greater than a\")\n",
    "elif a == b:\n",
    "    print(\"a and b are equal\")\n",
    "    "
   ]
  },
  {
   "cell_type": "code",
   "execution_count": null,
   "id": "de4ee8fa-3f70-4e3a-b2df-91309c4dcf9b",
   "metadata": {},
   "outputs": [],
   "source": [
    "num = -5\n",
    "if num > 0:\n",
    "    print(\"positive number\")\n",
    "elif  num < 0 :\n",
    "    print(\"negative number\")\n",
    "else:\n",
    "    print(\"zero\")"
   ]
  },
  {
   "cell_type": "code",
   "execution_count": null,
   "id": "d78cfe40-14b6-4d86-83d2-7fcc2c98010f",
   "metadata": {},
   "outputs": [],
   "source": [
    "# nested if\n",
    "num = 5\n",
    "# outer if statement\n",
    "if num >= 0:\n",
    "    #inner if statement\n",
    "  if  num == 0:\n",
    "    print (\"number is 0\")\n",
    "        # inner else statement\n",
    "  else: \n",
    "         print(\"number is positive\")\n",
    "        # outer  else statement\n",
    "else:\n",
    "        print(\"number is negative\")"
   ]
  },
  {
   "cell_type": "code",
   "execution_count": null,
   "id": "8d138440-e430-4814-9548-11980990fe9f",
   "metadata": {},
   "outputs": [],
   "source": [
    "num=int(input(\"enter any number\"))"
   ]
  },
  {
   "cell_type": "code",
   "execution_count": null,
   "id": "5e751443-26ab-4182-bf7f-2037e1671014",
   "metadata": {},
   "outputs": [],
   "source": [
    "# nested if\n",
    "num = 5\n",
    "# outer if statement\n",
    "if num >= 0:\n",
    "    #inner if statement\n",
    "  if  num == 0:\n",
    "     print (\"number is 0\")\n",
    "        # inner else statement\n",
    "  else:\n",
    "     print(\"number is positive\")\n",
    "        # outer  else statement\n",
    "else:\n",
    "    print(\"number is negative\")"
   ]
  },
  {
   "cell_type": "code",
   "execution_count": null,
   "id": "14dc4cbe-337a-4ba9-bea2-4f4ade12bf5b",
   "metadata": {},
   "outputs": [],
   "source": [
    "# using and o operator\n",
    "a = 20\n",
    "b = 33\n",
    "c = 500\n",
    "if a>b and b>c:\n",
    "  print(\"both conditions are true\")\n",
    "else:\n",
    "  print(\"both conditions are false\")\n",
    "\n"
   ]
  },
  {
   "cell_type": "code",
   "execution_count": null,
   "id": "cd842e63-96f0-47f7-a6e3-b64779e5aa76",
   "metadata": {},
   "outputs": [],
   "source": [
    "# using and o operator\n",
    "a = 200\n",
    "b = 33\n",
    "c = 5000\n",
    "if a > b or b > c:\n",
    "  print(\"both conditions are true\")\n",
    "else:\n",
    "  print(\"both conditions are false\")\n",
    "\n"
   ]
  },
  {
   "cell_type": "code",
   "execution_count": null,
   "id": "f245743d-2b53-4891-bd8e-58578afc3a26",
   "metadata": {},
   "outputs": [],
   "source": [
    "# while loop\n",
    "i = 0\n",
    "while (i<5):\n",
    "     print (i)\n",
    "     i = i+1\n"
   ]
  },
  {
   "cell_type": "code",
   "execution_count": null,
   "id": "7a0efec9-d305-49d5-8dfe-e7442c0dad97",
   "metadata": {},
   "outputs": [],
   "source": [
    "i = 1\n",
    "while i < 10 :                      # EVEN NUMBER\n",
    "    print(i)\n",
    "    i = i + 2\n"
   ]
  },
  {
   "cell_type": "code",
   "execution_count": null,
   "id": "8a06161e-a9a3-4cf9-927b-8eab20123489",
   "metadata": {},
   "outputs": [],
   "source": [
    "i = 1                       #ODD NUMBER\n",
    "while i < 10 :\n",
    "    print(i)\n",
    "    i = i + 2"
   ]
  },
  {
   "cell_type": "code",
   "execution_count": null,
   "id": "c2712960-dc03-4251-a264-3e0344a9bbc6",
   "metadata": {},
   "outputs": [],
   "source": [
    "# FIND SUM OF FIRST 10 NATURAL NUMBERS\n",
    "n = int(input(\"enter the last  number:\"))\n",
    "i = 1\n",
    "sum = 0 \n",
    "while (i <= n):\n",
    "    sum = sum + i\n",
    "    i = i + 1\n",
    "    print (\" the sum is:\",sum)"
   ]
  },
  {
   "cell_type": "code",
   "execution_count": null,
   "id": "b3ab40ff-8548-4a15-a562-c21b08bab1d5",
   "metadata": {},
   "outputs": [],
   "source": [
    "# FIND SquareOF FIRST 10 NATURAL NUMBERS\n",
    "n = int(input(\"enter the squares: \"))\n",
    "i = 0 \n",
    "while (i <= 10):\n",
    "    square = i*i\n",
    "    i = i + 1"
   ]
  },
  {
   "cell_type": "code",
   "execution_count": 14,
   "id": "dce832b1-a6c5-4f16-b941-2c1cf1297242",
   "metadata": {},
   "outputs": [
    {
     "name": "stdout",
     "output_type": "stream",
     "text": [
      "1\n",
      "2\n",
      "3\n"
     ]
    }
   ],
   "source": [
    "# Break Statement\n",
    "i = 1\n",
    "while(i<10):\n",
    "    print(i)\n",
    "    if i==3 :\n",
    "       break\n",
    "    i= i+1"
   ]
  },
  {
   "cell_type": "code",
   "execution_count": 25,
   "id": "793c1269-66dd-459b-aa72-a517ba7b4d79",
   "metadata": {},
   "outputs": [
    {
     "name": "stdout",
     "output_type": "stream",
     "text": [
      "1\n",
      "2\n",
      "4\n",
      "5\n",
      "6\n",
      "7\n",
      "8\n",
      "9\n",
      "10\n"
     ]
    }
   ],
   "source": [
    "# Continue Statement\n",
    "i = 0\n",
    "while (i < 10):\n",
    "    i = i+1\n",
    "    if(i==3):\n",
    "        continue\n",
    "    print(i)"
   ]
  },
  {
   "cell_type": "code",
   "execution_count": 1,
   "id": "c4b81c32-6b05-480b-8915-1c6759d1fff6",
   "metadata": {},
   "outputs": [
    {
     "name": "stdout",
     "output_type": "stream",
     "text": [
      "A\n",
      "B\n",
      "C\n",
      "D\n"
     ]
    }
   ],
   "source": [
    "#w   for loop\n",
    "# A for loop is used for iterarting over a sequence\n",
    "# that is either list , a tuple , a dictionary or a string\n",
    "\n",
    "l1 = [\"A\",\"B\",\"C\",\"D\"]\n",
    "for x in l1:\n",
    "    print(x)\n",
    "\n"
   ]
  },
  {
   "cell_type": "code",
   "execution_count": 2,
   "id": "82ebbb3f-4119-4a26-a6ff-fe237aed0a07",
   "metadata": {},
   "outputs": [
    {
     "name": "stdout",
     "output_type": "stream",
     "text": [
      "A\n",
      "A\n",
      "F\n",
      "T\n"
     ]
    }
   ],
   "source": [
    "for x in \"AAFT\":\n",
    "    print(x)"
   ]
  },
  {
   "cell_type": "code",
   "execution_count": 3,
   "id": "69d2c02c-c485-4a84-b55d-62375c4aecea",
   "metadata": {},
   "outputs": [
    {
     "name": "stdout",
     "output_type": "stream",
     "text": [
      "A\n",
      "B\n"
     ]
    }
   ],
   "source": [
    "# break statement\n",
    "# exit the loop when x is\"B\"\n",
    "l1 = [\"A\",\"B\",\"C\",\"D\"]\n",
    "for x in l1:\n",
    "    print(x)\n",
    "    if x == 'B':\n",
    "        break"
   ]
  },
  {
   "cell_type": "code",
   "execution_count": 28,
   "id": "cac1cd0d-25de-40c1-8dc2-874fc57ff7ed",
   "metadata": {},
   "outputs": [
    {
     "name": "stdout",
     "output_type": "stream",
     "text": [
      "A\n"
     ]
    }
   ],
   "source": [
    "# exit  the loop when x is b\n",
    "l1 = [\"A\",\"B\",\"C\",\"D\"]\n",
    "for x in l1:\n",
    "     if x == 'B':\n",
    "        break\n",
    "     print(x)"
   ]
  },
  {
   "cell_type": "code",
   "execution_count": 27,
   "id": "6cd543ab-6c96-4e4d-a4f1-12b3885d1433",
   "metadata": {},
   "outputs": [
    {
     "name": "stdout",
     "output_type": "stream",
     "text": [
      "A\n",
      "B\n",
      "D\n"
     ]
    }
   ],
   "source": [
    "# continue statement\n",
    "l1 = [\"A\",\"B\",\"C\",\"D\"]\n",
    "for x in l1:\n",
    "    if x == \"C\":\n",
    "        continue\n",
    "    print(x)"
   ]
  },
  {
   "cell_type": "code",
   "execution_count": 31,
   "id": "261e2755-74d9-418f-baa7-26338ef77c25",
   "metadata": {},
   "outputs": [
    {
     "name": "stdout",
     "output_type": "stream",
     "text": [
      "0\n",
      "1\n",
      "2\n",
      "3\n",
      "4\n",
      "5\n",
      "6\n",
      "7\n",
      "8\n",
      "9\n"
     ]
    }
   ],
   "source": [
    "#range function\n",
    "for x in range (10):\n",
    "   print(x)"
   ]
  },
  {
   "cell_type": "code",
   "execution_count": 33,
   "id": "8751dd9e-9d42-461f-b52f-f15da24c8628",
   "metadata": {},
   "outputs": [
    {
     "name": "stdout",
     "output_type": "stream",
     "text": [
      "1\n",
      "2\n",
      "3\n",
      "4\n",
      "5\n",
      "6\n",
      "7\n",
      "8\n",
      "9\n",
      "10\n"
     ]
    }
   ],
   "source": [
    "\n",
    "for x in range (1,11):\n",
    "   print(x)"
   ]
  },
  {
   "cell_type": "code",
   "execution_count": 34,
   "id": "319b55a4-611f-4a79-a642-72b8f724b576",
   "metadata": {},
   "outputs": [
    {
     "name": "stdout",
     "output_type": "stream",
     "text": [
      "2\n",
      "5\n",
      "8\n",
      "11\n",
      "14\n",
      "17\n",
      "20\n",
      "23\n",
      "26\n",
      "29\n"
     ]
    }
   ],
   "source": [
    "for x in range (2,30,3):\n",
    "   print(x)"
   ]
  },
  {
   "cell_type": "code",
   "execution_count": 38,
   "id": "f0fd8cd0-3cfa-41e1-9713-2f0fd60d6e39",
   "metadata": {},
   "outputs": [
    {
     "ename": "TypeError",
     "evalue": "'int' object is not iterable",
     "output_type": "error",
     "traceback": [
      "\u001b[1;31m---------------------------------------------------------------------------\u001b[0m",
      "\u001b[1;31mTypeError\u001b[0m                                 Traceback (most recent call last)",
      "Cell \u001b[1;32mIn[38], line 4\u001b[0m\n\u001b[0;32m      2\u001b[0m l1\u001b[38;5;241m=\u001b[39m[\u001b[38;5;241m1\u001b[39m,\u001b[38;5;241m2\u001b[39m,\u001b[38;5;241m3\u001b[39m]\n\u001b[0;32m      3\u001b[0m l2\u001b[38;5;241m=\u001b[39m[\u001b[38;5;124m'\u001b[39m\u001b[38;5;124mA\u001b[39m\u001b[38;5;124m'\u001b[39m,\u001b[38;5;124m'\u001b[39m\u001b[38;5;124mB\u001b[39m\u001b[38;5;124m'\u001b[39m,\u001b[38;5;124m'\u001b[39m\u001b[38;5;124mC\u001b[39m\u001b[38;5;124m'\u001b[39m]\n\u001b[1;32m----> 4\u001b[0m \u001b[38;5;28;01mfor\u001b[39;00m x \u001b[38;5;129;01min\u001b[39;00m \u001b[38;5;241m12\u001b[39m:\n\u001b[0;32m      5\u001b[0m           \u001b[38;5;28;01mfor\u001b[39;00m y \u001b[38;5;129;01min\u001b[39;00m \u001b[38;5;241m13\u001b[39m:\n\u001b[0;32m      6\u001b[0m              \u001b[38;5;28mprint\u001b[39m(x,y)\n",
      "\u001b[1;31mTypeError\u001b[0m: 'int' object is not iterable"
     ]
    }
   ],
   "source": [
    "# nested loop\n",
    "l1=[1,2,3]\n",
    "l2=['A','B','C']\n",
    "for x in 12:\n",
    "          for y in 13:\n",
    "             print(x,y)\n"
   ]
  },
  {
   "cell_type": "code",
   "execution_count": null,
   "id": "5c863b53-d662-43b8-b374-02883e6564a8",
   "metadata": {},
   "outputs": [],
   "source": [
    "\n",
    "#pass statement - for loops cannot be empty,\n",
    "#but if you for some reason have a for loop with no content,\n",
    "\n",
    "#put in pass statement to avoid getting an error."
   ]
  },
  {
   "cell_type": "code",
   "execution_count": null,
   "id": "240463fd-8e51-47e5-8684-385d7b15917c",
   "metadata": {},
   "outputs": [],
   "source": []
  },
  {
   "cell_type": "code",
   "execution_count": 35,
   "id": "edfa9c41-49d3-48d5-abd3-029851ebf1ba",
   "metadata": {},
   "outputs": [
    {
     "name": "stdout",
     "output_type": "stream",
     "text": [
      "10\n",
      "9\n",
      "8\n",
      "7\n",
      "6\n",
      "5\n",
      "4\n",
      "3\n",
      "2\n",
      "1\n"
     ]
    }
   ],
   "source": [
    "# reverse \n",
    "i = 10\n",
    "while i > 0:\n",
    "    print(i)\n",
    "    i= i-1;"
   ]
  },
  {
   "cell_type": "code",
   "execution_count": 36,
   "id": "523e1840-9820-441c-b503-0244f36dd515",
   "metadata": {},
   "outputs": [
    {
     "name": "stdout",
     "output_type": "stream",
     "text": [
      "100\n",
      "99\n",
      "98\n",
      "97\n",
      "96\n",
      "95\n",
      "94\n",
      "93\n",
      "92\n",
      "91\n",
      "90\n",
      "89\n",
      "88\n",
      "87\n",
      "86\n",
      "85\n",
      "84\n",
      "83\n",
      "82\n",
      "81\n",
      "80\n",
      "79\n",
      "78\n",
      "77\n",
      "76\n",
      "75\n",
      "74\n",
      "73\n",
      "72\n",
      "71\n",
      "70\n",
      "69\n",
      "68\n",
      "67\n",
      "66\n",
      "65\n",
      "64\n",
      "63\n",
      "62\n",
      "61\n",
      "60\n",
      "59\n",
      "58\n",
      "57\n",
      "56\n",
      "55\n",
      "54\n",
      "53\n",
      "52\n",
      "51\n",
      "50\n",
      "49\n",
      "48\n",
      "47\n",
      "46\n",
      "45\n",
      "44\n",
      "43\n",
      "42\n",
      "41\n",
      "40\n",
      "39\n",
      "38\n",
      "37\n",
      "36\n",
      "35\n",
      "34\n",
      "33\n",
      "32\n",
      "31\n",
      "30\n",
      "29\n",
      "28\n",
      "27\n",
      "26\n",
      "25\n",
      "24\n",
      "23\n",
      "22\n",
      "21\n",
      "20\n",
      "19\n",
      "18\n",
      "17\n",
      "16\n",
      "15\n",
      "14\n",
      "13\n",
      "12\n",
      "11\n"
     ]
    }
   ],
   "source": [
    "i = 100\n",
    "while i > 10:\n",
    "    print(i)\n",
    "    i= i-1;"
   ]
  },
  {
   "cell_type": "code",
   "execution_count": 4,
   "id": "f73f6e19-a467-43c9-9e81-e2a4d1b2524a",
   "metadata": {},
   "outputs": [
    {
     "name": "stdin",
     "output_type": "stream",
     "text": [
      "enter any number 5\n"
     ]
    },
    {
     "ename": "NameError",
     "evalue": "name 'n' is not defined",
     "output_type": "error",
     "traceback": [
      "\u001b[1;31m---------------------------------------------------------------------------\u001b[0m",
      "\u001b[1;31mNameError\u001b[0m                                 Traceback (most recent call last)",
      "Cell \u001b[1;32mIn[4], line 3\u001b[0m\n\u001b[0;32m      1\u001b[0m num \u001b[38;5;241m=\u001b[39m \u001b[38;5;28mint\u001b[39m(\u001b[38;5;28minput\u001b[39m(\u001b[38;5;124m\"\u001b[39m\u001b[38;5;124menter any number\u001b[39m\u001b[38;5;124m\"\u001b[39m))\n\u001b[0;32m      2\u001b[0m fact \u001b[38;5;241m=\u001b[39m \u001b[38;5;241m1\u001b[39m\n\u001b[1;32m----> 3\u001b[0m \u001b[38;5;28;01mwhile\u001b[39;00m n \u001b[38;5;241m>\u001b[39m\u001b[38;5;241m=\u001b[39m \u001b[38;5;241m1\u001b[39m:\n\u001b[0;32m      4\u001b[0m      f \u001b[38;5;241m=\u001b[39m f \u001b[38;5;241m*\u001b[39m I\n\u001b[0;32m      5\u001b[0m      n \u001b[38;5;241m=\u001b[39m n\u001b[38;5;241m-\u001b[39m \u001b[38;5;241m1\u001b[39m\n",
      "\u001b[1;31mNameError\u001b[0m: name 'n' is not defined"
     ]
    }
   ],
   "source": [
    "num = int(input(\"enter any number\"))\n",
    "fact = 1\n",
    "while n >= 1:\n",
    "     f = f * I\n",
    "     n = n- 1\n",
    "print(\"Factorial is \",fact)"
   ]
  },
  {
   "cell_type": "code",
   "execution_count": 7,
   "id": "e297ee58-32a0-4159-9e85-1b7d3da75545",
   "metadata": {},
   "outputs": [
    {
     "name": "stdin",
     "output_type": "stream",
     "text": [
      " enter a number: 25\n"
     ]
    },
    {
     "name": "stdout",
     "output_type": "stream",
     "text": [
      "reverse of given number is: 5\n",
      "reverse of given number is: 52\n"
     ]
    }
   ],
   "source": [
    "#wap to find a reverse\n",
    "num = int(input(\" enter a number:\"))\n",
    "rev = 0\n",
    "while(num>0):\n",
    "    rev=(rev*10)+num%10\n",
    "    num=num//10\n",
    "    print(\"reverse of given number is:\",rev)\n",
    "    "
   ]
  },
  {
   "cell_type": "code",
   "execution_count": 31,
   "id": "5239a387-142b-4661-b232-2d3adf66469e",
   "metadata": {},
   "outputs": [
    {
     "name": "stdin",
     "output_type": "stream",
     "text": [
      " enter a number: 121\n"
     ]
    },
    {
     "name": "stdout",
     "output_type": "stream",
     "text": [
      "num is pallandrome\n"
     ]
    }
   ],
   "source": [
    "# pallandrome\n",
    "num = int(input(\" enter a number:\"))\n",
    "rev = 0\n",
    "x=num\n",
    "while(num>0):\n",
    "    rev=(rev*10)+num%10\n",
    "    num=num//10\n",
    "if rev==x:\n",
    "    print(\"num is pallandrome\")\n",
    "else:\n",
    "    print(\"non pallandrome\")\n"
   ]
  },
  {
   "cell_type": "code",
   "execution_count": 3,
   "id": "2e778718-4c8c-4f05-a303-5e6bdd1240b4",
   "metadata": {},
   "outputs": [
    {
     "name": "stdin",
     "output_type": "stream",
     "text": [
      " enter a number: 525\n"
     ]
    },
    {
     "name": "stdout",
     "output_type": "stream",
     "text": [
      "non armstrong\n"
     ]
    }
   ],
   "source": [
    "num = int(input(\" enter a number:\"))\n",
    "sum = 0\n",
    "x=num\n",
    "while(num>0):\n",
    "    sum=sum+(num/10)*(num/10)*(num/10)\n",
    "    num=num//10\n",
    "if x==sum:\n",
    "    print(\"num is Armstrong\")\n",
    "else:\n",
    "    print(\"non armstrong\")"
   ]
  },
  {
   "cell_type": "markdown",
   "id": "8ba839c6-cb16-4794-97f7-cda382afc3da",
   "metadata": {},
   "source": [
    "# Arguments\n",
    "def my_function(fname):\n",
    "  print(\"Hello From a function\")"
   ]
  },
  {
   "cell_type": "code",
   "execution_count": 13,
   "id": "1236ab77-5c57-458f-8d49-49e11e50a49b",
   "metadata": {},
   "outputs": [
    {
     "data": {
      "text/plain": [
       "<function __main__.My_Function()>"
      ]
     },
     "execution_count": 13,
     "metadata": {},
     "output_type": "execute_result"
    }
   ],
   "source": [
    "def My_Function():\n",
    "   print(\"Hello From a function\")  # define function\n",
    "    \n",
    "My_Function"
   ]
  },
  {
   "cell_type": "code",
   "execution_count": 14,
   "id": "4bb412d5-73a8-46ab-a12a-db63959310ba",
   "metadata": {},
   "outputs": [
    {
     "data": {
      "text/plain": [
       "<function __main__.My_Function()>"
      ]
     },
     "execution_count": 14,
     "metadata": {},
     "output_type": "execute_result"
    }
   ],
   "source": [
    "My_Function"
   ]
  },
  {
   "cell_type": "code",
   "execution_count": 15,
   "id": "75f4ea00-e325-44e8-8feb-22a78569b4d6",
   "metadata": {},
   "outputs": [
    {
     "name": "stdout",
     "output_type": "stream",
     "text": [
      "hello from a function\n"
     ]
    }
   ],
   "source": [
    "def my_function():\n",
    "    print(\"hello from a function\") # calling function\n",
    "\n",
    "my_function()"
   ]
  },
  {
   "cell_type": "code",
   "execution_count": 18,
   "id": "f36b249a-ad4d-4ba6-828c-edc84a525fb2",
   "metadata": {},
   "outputs": [
    {
     "name": "stdout",
     "output_type": "stream",
     "text": [
      "donald trump\n"
     ]
    }
   ],
   "source": [
    "def my_function(fname):\n",
    "    print(fname +  \"trump\")\n",
    "\n",
    "my_function(\"donald \")"
   ]
  },
  {
   "cell_type": "code",
   "execution_count": 23,
   "id": "cb00408b-c684-4c10-a53b-c1443a8df044",
   "metadata": {},
   "outputs": [
    {
     "name": "stdout",
     "output_type": "stream",
     "text": [
      "MondayDate\n"
     ]
    }
   ],
   "source": [
    "def my_function(Time):\n",
    "    print( Time +   \"Date\")\n",
    "my_function(\"Monday\")"
   ]
  },
  {
   "cell_type": "code",
   "execution_count": null,
   "id": "acac93b5-d220-482d-9afe-677281054241",
   "metadata": {},
   "outputs": [],
   "source": [
    "# arguments\n",
    "# information can be passed into functions as arguments\n",
    "# arguments are specified after function name, inside parentheses"
   ]
  },
  {
   "cell_type": "code",
   "execution_count": 24,
   "id": "359a0a12-3a51-4526-8a82-0d0a1fb99c31",
   "metadata": {},
   "outputs": [
    {
     "name": "stdout",
     "output_type": "stream",
     "text": [
      "MellianaDate\n"
     ]
    }
   ],
   "source": [
    "my_function(\"Melliana\")"
   ]
  },
  {
   "cell_type": "code",
   "execution_count": null,
   "id": "69bf46fe-a719-4fd0-a839-11e96f70330a",
   "metadata": {},
   "outputs": [],
   "source": [
    "a parameter is a variable "
   ]
  },
  {
   "cell_type": "code",
   "execution_count": 26,
   "id": "73fe07d9-10cc-489b-89db-28d9411961c9",
   "metadata": {},
   "outputs": [
    {
     "data": {
      "text/plain": [
       "16"
      ]
     },
     "execution_count": 26,
     "metadata": {},
     "output_type": "execute_result"
    }
   ],
   "source": [
    "# function with multiple variables\n",
    "def add(a,b):\n",
    "    return a+b\n",
    "add(6,7)\n",
    "add(7,9)"
   ]
  },
  {
   "cell_type": "code",
   "execution_count": null,
   "id": "d941c20e-e565-4f17-b9c2-41659112f1cd",
   "metadata": {},
   "outputs": [],
   "source": [
    "# a parameter is the variable listed inside the parameters in function defination\n",
    "# an argument is the value that is sent to the function when it is called\n"
   ]
  },
  {
   "cell_type": "code",
   "execution_count": null,
   "id": "f8d63491-f44d-420f-abf4-14637022dffd",
   "metadata": {},
   "outputs": [],
   "source": [
    "# syntax with return statement\n",
    "def function_name(parameters)\n",
    "    function body\n",
    "return expression"
   ]
  },
  {
   "cell_type": "code",
   "execution_count": 27,
   "id": "daa1583c-34ff-499b-b0ac-5330a569385a",
   "metadata": {},
   "outputs": [
    {
     "data": {
      "text/plain": [
       "16"
      ]
     },
     "execution_count": 27,
     "metadata": {},
     "output_type": "execute_result"
    }
   ],
   "source": [
    "add(7,9)"
   ]
  },
  {
   "cell_type": "code",
   "execution_count": 28,
   "id": "bb0e25b3-dee0-4c55-b5a8-139d8efb8cee",
   "metadata": {},
   "outputs": [
    {
     "data": {
      "text/plain": [
       "9"
      ]
     },
     "execution_count": 28,
     "metadata": {},
     "output_type": "execute_result"
    }
   ],
   "source": [
    "add(4,5)"
   ]
  },
  {
   "cell_type": "code",
   "execution_count": 31,
   "id": "87f7648d-1105-4184-903c-872c65e47560",
   "metadata": {},
   "outputs": [
    {
     "data": {
      "text/plain": [
       "(6, 2)"
      ]
     },
     "execution_count": 31,
     "metadata": {},
     "output_type": "execute_result"
    }
   ],
   "source": [
    "def add(a,b):\n",
    "    return a+b,a\n",
    "add(2,4)"
   ]
  },
  {
   "cell_type": "code",
   "execution_count": 32,
   "id": "4cb61412-8ed0-4b6e-9e4e-aba268dd47af",
   "metadata": {},
   "outputs": [
    {
     "data": {
      "text/plain": [
       "(6, 4)"
      ]
     },
     "execution_count": 32,
     "metadata": {},
     "output_type": "execute_result"
    }
   ],
   "source": [
    "def add(a,b):\n",
    "    return a+b,b\n",
    "add(2,4)"
   ]
  },
  {
   "cell_type": "code",
   "execution_count": 59,
   "id": "de273fde-32b6-468d-9cd7-5b6661b59f13",
   "metadata": {},
   "outputs": [],
   "source": [
    "def my_function(num):\n",
    "  if num%2==0:\n",
    "    print(\"this number is even\")\n",
    "  else:\n",
    "    print(\"this number is odd\")\n"
   ]
  },
  {
   "cell_type": "code",
   "execution_count": 60,
   "id": "779803d7-2922-4504-ab34-d0062b6fcc61",
   "metadata": {},
   "outputs": [
    {
     "name": "stdout",
     "output_type": "stream",
     "text": [
      "this number is odd\n"
     ]
    }
   ],
   "source": [
    "my_function(5)"
   ]
  },
  {
   "cell_type": "code",
   "execution_count": 61,
   "id": "be6b2d71-22ce-456b-925e-468f557ec525",
   "metadata": {},
   "outputs": [],
   "source": [
    "# write a function to swap two numbers without using third variable\n",
    "def swap(a,b):\n",
    "    a,b=b,a\n",
    "    print(a)\n",
    "    print(b)"
   ]
  },
  {
   "cell_type": "code",
   "execution_count": 62,
   "id": "b9c13d0a-4b5c-44ec-aeae-af9aa90f2935",
   "metadata": {},
   "outputs": [
    {
     "name": "stdout",
     "output_type": "stream",
     "text": [
      "4\n",
      "3\n"
     ]
    }
   ],
   "source": [
    "swap(3,4)"
   ]
  },
  {
   "cell_type": "code",
   "execution_count": 1,
   "id": "8b225eaa-bb80-4d30-8ca5-c07719bc5594",
   "metadata": {},
   "outputs": [],
   "source": [
    "# Python LibrarLibraries\n",
    "#numpy\n",
    "import numpy as np"
   ]
  },
  {
   "cell_type": "code",
   "execution_count": 2,
   "id": "c823a833-d428-4b03-8302-70cccfff4814",
   "metadata": {},
   "outputs": [
    {
     "data": {
      "text/plain": [
       "array([1, 2, 3, 4, 5])"
      ]
     },
     "execution_count": 2,
     "metadata": {},
     "output_type": "execute_result"
    }
   ],
   "source": [
    "arr1=np.array([1,2,3,4,5])\n",
    "arr1"
   ]
  },
  {
   "cell_type": "code",
   "execution_count": 3,
   "id": "2fa3d405-2699-4a22-bd5b-b08bcd0593fe",
   "metadata": {},
   "outputs": [
    {
     "data": {
      "text/plain": [
       "numpy.ndarray"
      ]
     },
     "execution_count": 3,
     "metadata": {},
     "output_type": "execute_result"
    }
   ],
   "source": [
    "type(arr1)"
   ]
  },
  {
   "cell_type": "code",
   "execution_count": 5,
   "id": "550c98a3-0f12-4688-83af-65a7f6f344dd",
   "metadata": {},
   "outputs": [
    {
     "data": {
      "text/plain": [
       "array([[1, 2, 3],\n",
       "       [4, 5, 6]])"
      ]
     },
     "execution_count": 5,
     "metadata": {},
     "output_type": "execute_result"
    }
   ],
   "source": [
    "arr2=np.array([[1,2,3],[4,5,6]])\n",
    "arr2"
   ]
  },
  {
   "cell_type": "code",
   "execution_count": 6,
   "id": "8c141f98-ebdf-4d62-9d71-03b9fbba9c0e",
   "metadata": {},
   "outputs": [
    {
     "data": {
      "text/plain": [
       "array([[0., 0., 0.],\n",
       "       [0., 0., 0.]])"
      ]
     },
     "execution_count": 6,
     "metadata": {},
     "output_type": "execute_result"
    }
   ],
   "source": [
    "arr3=np.zeros((2,3))\n",
    "arr3"
   ]
  },
  {
   "cell_type": "code",
   "execution_count": 7,
   "id": "2abcb6ca-b01c-4739-a3da-1b6cba7937f4",
   "metadata": {},
   "outputs": [
    {
     "data": {
      "text/plain": [
       "numpy.ndarray"
      ]
     },
     "execution_count": 7,
     "metadata": {},
     "output_type": "execute_result"
    }
   ],
   "source": [
    "type(arr3)"
   ]
  },
  {
   "cell_type": "code",
   "execution_count": 9,
   "id": "f4f82229-ba04-4f01-8ea0-9620d2b85097",
   "metadata": {},
   "outputs": [
    {
     "data": {
      "text/plain": [
       "array([[1., 1., 1.],\n",
       "       [1., 1., 1.],\n",
       "       [1., 1., 1.]])"
      ]
     },
     "execution_count": 9,
     "metadata": {},
     "output_type": "execute_result"
    }
   ],
   "source": [
    "arr4=np.ones((3,3))\n",
    "arr4\n"
   ]
  },
  {
   "cell_type": "code",
   "execution_count": 10,
   "id": "0b36b2f2-b9ec-464e-9701-1c4a7147bb61",
   "metadata": {},
   "outputs": [
    {
     "data": {
      "text/plain": [
       "array(55)"
      ]
     },
     "execution_count": 10,
     "metadata": {},
     "output_type": "execute_result"
    }
   ],
   "source": [
    "# 0 - d Array\n",
    "arr=np.array(55)\n",
    "arr"
   ]
  },
  {
   "cell_type": "code",
   "execution_count": 12,
   "id": "5e90d43e-c1f1-4309-bf30-afbb7a25cc81",
   "metadata": {},
   "outputs": [
    {
     "ename": "NameError",
     "evalue": "name 'aar2' is not defined",
     "output_type": "error",
     "traceback": [
      "\u001b[1;31m---------------------------------------------------------------------------\u001b[0m",
      "\u001b[1;31mNameError\u001b[0m                                 Traceback (most recent call last)",
      "Cell \u001b[1;32mIn[12], line 2\u001b[0m\n\u001b[0;32m      1\u001b[0m \u001b[38;5;66;03m# changing  dimensions for \u001b[39;00m\n\u001b[1;32m----> 2\u001b[0m \u001b[38;5;28mprint\u001b[39m(aar2\u001b[38;5;241m.\u001b[39mndim)\n",
      "\u001b[1;31mNameError\u001b[0m: name 'aar2' is not defined"
     ]
    }
   ],
   "source": [
    "# changing  dimensions for \n",
    "print(aar2.ndim)"
   ]
  },
  {
   "cell_type": "code",
   "execution_count": 14,
   "id": "55d3be10-4a68-40be-8ebe-c0bd9770850b",
   "metadata": {},
   "outputs": [
    {
     "name": "stdout",
     "output_type": "stream",
     "text": [
      "2\n"
     ]
    }
   ],
   "source": [
    "print(arr2.ndim)"
   ]
  },
  {
   "cell_type": "code",
   "execution_count": 15,
   "id": "729d1c2e-6966-4993-808f-c5915215777a",
   "metadata": {},
   "outputs": [
    {
     "name": "stdout",
     "output_type": "stream",
     "text": [
      "2\n"
     ]
    }
   ],
   "source": [
    "print(arr3.ndim)"
   ]
  },
  {
   "cell_type": "code",
   "execution_count": 16,
   "id": "db628bd6-f6b8-4517-bbb6-4ea631663ccb",
   "metadata": {},
   "outputs": [
    {
     "name": "stdout",
     "output_type": "stream",
     "text": [
      "1\n"
     ]
    }
   ],
   "source": [
    "# ascending element\n",
    "print(arr1[0])"
   ]
  },
  {
   "cell_type": "code",
   "execution_count": 17,
   "id": "2d67b593-34b9-4ca6-932d-dc252f1febe0",
   "metadata": {},
   "outputs": [
    {
     "name": "stdout",
     "output_type": "stream",
     "text": [
      "4\n"
     ]
    }
   ],
   "source": [
    "print(arr1[3])"
   ]
  },
  {
   "cell_type": "code",
   "execution_count": 20,
   "id": "efabc81e-7f61-4422-8ecc-6f2fddae75b1",
   "metadata": {},
   "outputs": [
    {
     "data": {
      "text/plain": [
       "array([[1, 2, 3],\n",
       "       [4, 5, 6]])"
      ]
     },
     "execution_count": 20,
     "metadata": {},
     "output_type": "execute_result"
    }
   ],
   "source": [
    "arr2=np.array([[1,2,3],[4,5,6]])\n",
    "arr2"
   ]
  },
  {
   "cell_type": "code",
   "execution_count": 27,
   "id": "79643bf4-eec9-4b97-8a59-36b6f2af38da",
   "metadata": {},
   "outputs": [
    {
     "data": {
      "text/plain": [
       "1"
      ]
     },
     "execution_count": 27,
     "metadata": {},
     "output_type": "execute_result"
    }
   ],
   "source": [
    "arr2[0,0]"
   ]
  }
 ],
 "metadata": {
  "kernelspec": {
   "display_name": "Python 3 (ipykernel)",
   "language": "python",
   "name": "python3"
  },
  "language_info": {
   "codemirror_mode": {
    "name": "ipython",
    "version": 3
   },
   "file_extension": ".py",
   "mimetype": "text/x-python",
   "name": "python",
   "nbconvert_exporter": "python",
   "pygments_lexer": "ipython3",
   "version": "3.11.7"
  }
 },
 "nbformat": 4,
 "nbformat_minor": 5
}
